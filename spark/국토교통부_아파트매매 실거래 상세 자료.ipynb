{
 "cells": [
  {
   "cell_type": "code",
   "execution_count": 1,
   "id": "68c63b92",
   "metadata": {},
   "outputs": [],
   "source": [
    "import requests\n",
    "import json\n",
    "import datetime as dt\n",
    "from hdfs import InsecureClient\n",
    "# !pip install xmltodict\n",
    "import xmltodict"
   ]
  },
  {
   "cell_type": "code",
   "execution_count": 2,
   "id": "7c1f1bdd",
   "metadata": {},
   "outputs": [],
   "source": [
    "client = InsecureClient('http://localhost:9870', user='big')"
   ]
  },
  {
   "cell_type": "markdown",
   "id": "567b0260",
   "metadata": {},
   "source": [
    "### api실행함수 / 날짜 리스트 생성"
   ]
  },
  {
   "cell_type": "code",
   "execution_count": 32,
   "id": "85943f17",
   "metadata": {},
   "outputs": [
    {
     "data": {
      "text/plain": [
       "['201401',\n",
       " '201402',\n",
       " '201403',\n",
       " '201404',\n",
       " '201405',\n",
       " '201406',\n",
       " '201407',\n",
       " '201408',\n",
       " '201409',\n",
       " '201410',\n",
       " '201411',\n",
       " '201412',\n",
       " '201501',\n",
       " '201502',\n",
       " '201503',\n",
       " '201504',\n",
       " '201505',\n",
       " '201506',\n",
       " '201507',\n",
       " '201508',\n",
       " '201509',\n",
       " '201510',\n",
       " '201511',\n",
       " '201512',\n",
       " '201601',\n",
       " '201602',\n",
       " '201603',\n",
       " '201604',\n",
       " '201605',\n",
       " '201606',\n",
       " '201607',\n",
       " '201608',\n",
       " '201609',\n",
       " '201610',\n",
       " '201611',\n",
       " '201612',\n",
       " '201701',\n",
       " '201702',\n",
       " '201703',\n",
       " '201704',\n",
       " '201705',\n",
       " '201706',\n",
       " '201707',\n",
       " '201708',\n",
       " '201709',\n",
       " '201710',\n",
       " '201711',\n",
       " '201712',\n",
       " '201801',\n",
       " '201802',\n",
       " '201803',\n",
       " '201804',\n",
       " '201805',\n",
       " '201806',\n",
       " '201807',\n",
       " '201808',\n",
       " '201809',\n",
       " '201810',\n",
       " '201811',\n",
       " '201812',\n",
       " '201901',\n",
       " '201902',\n",
       " '201903',\n",
       " '201904',\n",
       " '201905',\n",
       " '201906',\n",
       " '201907',\n",
       " '201908',\n",
       " '201909',\n",
       " '201910',\n",
       " '201911',\n",
       " '201912',\n",
       " '202001',\n",
       " '202002',\n",
       " '202003',\n",
       " '202004',\n",
       " '202005',\n",
       " '202006',\n",
       " '202007',\n",
       " '202008',\n",
       " '202009',\n",
       " '202010',\n",
       " '202011',\n",
       " '202012',\n",
       " '202101',\n",
       " '202102',\n",
       " '202103',\n",
       " '202104',\n",
       " '202105',\n",
       " '202106',\n",
       " '202107',\n",
       " '202108',\n",
       " '202109',\n",
       " '202110',\n",
       " '202111',\n",
       " '202112',\n",
       " '202201',\n",
       " '202202',\n",
       " '202203',\n",
       " '202204',\n",
       " '202205',\n",
       " '202206',\n",
       " '202207',\n",
       " '202208',\n",
       " '202209']"
      ]
     },
     "execution_count": 32,
     "metadata": {},
     "output_type": "execute_result"
    }
   ],
   "source": [
    "def execute_rest_api(method, url, headers, params):\n",
    "    if method == 'get':\n",
    "        res = requests.get(url, params=params, headers=headers, verify = False)\n",
    "    elif method == 'post':\n",
    "        res = requests.post(url, params=params, headers=headers, verify = False)\n",
    "        \n",
    "    if res == None or res.status_code != 200:\n",
    "        raise Exception('응답코드 : ' + str(res.status_code))\n",
    "    \n",
    "    return res.text\n",
    "\n",
    "# 날짜 리스트\n",
    "deal_y = ['201'+str(i) for i in range(4,10)]\n",
    "deal_y.append('2020')\n",
    "deal_y.append('2021')\n",
    "deal_y.append('2022')\n",
    "\n",
    "deal_ymd = []\n",
    "for year in deal_y:\n",
    "        for m in range(1,13):\n",
    "            if m < 10:\n",
    "                m = str(0) + str(m)\n",
    "            if year+str(m) > '202209' :\n",
    "                break\n",
    "            deal_ymd.append(year+str(m))"
   ]
  },
  {
   "cell_type": "code",
   "execution_count": 55,
   "id": "a5ec6a04",
   "metadata": {},
   "outputs": [
    {
     "data": {
      "text/plain": [
       "105"
      ]
     },
     "execution_count": 55,
     "metadata": {},
     "output_type": "execute_result"
    }
   ],
   "source": [
    "len(deal_ymd)"
   ]
  },
  {
   "cell_type": "markdown",
   "id": "60990fae",
   "metadata": {},
   "source": [
    "### API 호출"
   ]
  },
  {
   "cell_type": "code",
   "execution_count": 30,
   "id": "811fe2a9",
   "metadata": {},
   "outputs": [],
   "source": [
    "# api 호출\n",
    "url = \"http://openapi.molit.go.kr/OpenAPI_ToolInstallPackage/service/rest/RTMSOBJSvc/getRTMSDataSvcAptTradeDev?\"\n",
    "service_key = 'NvoJpM4nyxzXkb5F8hffSDHLrfuCyIcVBqBSDCgTa+/7CtQnsrFwE8y/a0lLPVxN1AESAPkiMkfoS7KYrck13A=='\n",
    "file_dir = '/realestate_data/apartment_price/'"
   ]
  },
  {
   "cell_type": "code",
   "execution_count": 83,
   "id": "1d288048",
   "metadata": {},
   "outputs": [],
   "source": [
    "def create_param(i):\n",
    "    for i in range(i):\n",
    "            params = {\n",
    "                    'ServiceKey':service_key\n",
    "                    ,'pageNo':'1'\n",
    "                    ,'numOfRows':'10'\n",
    "                    ,'LAWD_CD':'11110'\n",
    "                    ,'DEAL_YMD':deal_ymd[i]}\n",
    "    return(params)"
   ]
  },
  {
   "cell_type": "code",
   "execution_count": 85,
   "id": "71e49dca",
   "metadata": {},
   "outputs": [],
   "source": [
    "for i in range(1,106): #106\n",
    "    params = create_param(i)\n",
    "    res = execute_rest_api('get',url,(),params)\n",
    "    file_name = 'apartment_price_data_' + params['DEAL_YMD'] + '.xml'\n",
    "    client.write(file_dir + file_name, res, encoding='utf-8')"
   ]
  },
  {
   "cell_type": "markdown",
   "id": "a3c0892a",
   "metadata": {},
   "source": []
  }
 ],
 "metadata": {
  "kernelspec": {
   "display_name": "Python 3.10.5 64-bit",
   "language": "python",
   "name": "python3"
  },
  "language_info": {
   "codemirror_mode": {
    "name": "ipython",
    "version": 3
   },
   "file_extension": ".py",
   "mimetype": "text/x-python",
   "name": "python",
   "nbconvert_exporter": "python",
   "pygments_lexer": "ipython3",
   "version": "3.10.5"
  },
  "vscode": {
   "interpreter": {
    "hash": "3196968d684371006099b3d55edeef8ed90365227a30deaef86e5d4aa8519be0"
   }
  }
 },
 "nbformat": 4,
 "nbformat_minor": 5
}
