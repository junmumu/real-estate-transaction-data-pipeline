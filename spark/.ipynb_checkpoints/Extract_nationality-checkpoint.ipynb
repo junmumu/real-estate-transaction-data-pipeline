{
 "cells": [
  {
   "cell_type": "code",
   "execution_count": null,
   "id": "68c63b92",
   "metadata": {},
   "outputs": [],
   "source": [
    "import requests\n",
    "import json\n",
    "import datetime as dt\n",
    "from hdfs import InsecureClient"
   ]
  },
  {
   "cell_type": "code",
   "execution_count": 7,
   "id": "7c1f1bdd",
   "metadata": {},
   "outputs": [],
   "source": [
    "client = InsecureClient('http://localhost:9870', user='big')"
   ]
  },
  {
   "cell_type": "code",
   "execution_count": 2,
   "id": "85943f17",
   "metadata": {},
   "outputs": [],
   "source": [
    "# api실행함수/기준일자 함수정의\n",
    "def execute_rest_api(method, url, headers, params):\n",
    "    if method == 'get':\n",
    "        res = requests.get(url, params=params, headers=headers)\n",
    "    elif method == 'post':\n",
    "        res = requests.post(url, params=params, headers=headers)\n",
    "        \n",
    "    if res == None or res.status_code != 200:\n",
    "        raise Exception('응답코드 : ' + str(res.status_code))\n",
    "    \n",
    "    return res.text\n",
    "\n",
    "def cal_std_day(before_day):   \n",
    "    x = dt.datetime.now() - dt.timedelta(before_day)\n",
    "    year = x.year\n",
    "    month = x.month if x.month >= 10 else '0'+ str(x.month)\n",
    "    day = x.day if x.day >= 10 else '0'+ str(x.day)  \n",
    "    return str(year)+ str(month)+str(day)"
   ]
  },
  {
   "cell_type": "code",
   "execution_count": 10,
   "id": "811fe2a9",
   "metadata": {},
   "outputs": [],
   "source": [
    "# api 호출\n",
    "url = \"https://data.iros.go.kr/openapi/cr/rs/selectCrRsRgsCsOpenApi.rest\"\n",
    "service_key = '476107736cd646848b0c8f8d27ba7925'\n",
    "file_dir = '/realestate_data/'\n",
    "\n",
    "def create_param(before_day):\n",
    "    return {\n",
    "        'key':service_key\n",
    "        ,'reqtype':'json'\n",
    "        ,'search_type_api':'03'\n",
    "        ,'search_start_date_api':cal_std_day(before_day)\n",
    "        ,'search_end_date_api':cal_std_day(before_day)}\n",
    "#         ,'search_regn1_name_api':'900'\n",
    "#         ,'search_regn2_name_api':'915'}"
   ]
  },
  {
   "cell_type": "code",
   "execution_count": 9,
   "id": "488e6ff2",
   "metadata": {
    "collapsed": true
   },
   "outputs": [
    {
     "ename": "FileNotFoundError",
     "evalue": "[Errno 2] No such file or directory: '/home/big/study/spark/log/rest_api/2022-09-27.log'",
     "output_type": "error",
     "traceback": [
      "\u001b[0;31m---------------------------------------------------------------------------\u001b[0m",
      "\u001b[0;31mFileNotFoundError\u001b[0m                         Traceback (most recent call last)",
      "Input \u001b[0;32mIn [9]\u001b[0m, in \u001b[0;36m<cell line: 4>\u001b[0;34m()\u001b[0m\n\u001b[1;32m      2\u001b[0m \u001b[38;5;28;01mimport\u001b[39;00m \u001b[38;5;21;01mlogging\u001b[39;00m\n\u001b[1;32m      3\u001b[0m co_logger \u001b[38;5;241m=\u001b[39m logging\u001b[38;5;241m.\u001b[39mgetLogger(\u001b[38;5;124m'\u001b[39m\u001b[38;5;124mrealestate_api\u001b[39m\u001b[38;5;124m'\u001b[39m)\n\u001b[0;32m----> 4\u001b[0m handler \u001b[38;5;241m=\u001b[39m \u001b[43mlogging\u001b[49m\u001b[38;5;241;43m.\u001b[39;49m\u001b[43mFileHandler\u001b[49m\u001b[43m(\u001b[49m\u001b[38;5;124;43m'\u001b[39;49m\u001b[38;5;124;43m./log/rest_api/\u001b[39;49m\u001b[38;5;124;43m'\u001b[39;49m\u001b[38;5;241;43m+\u001b[39;49m\u001b[43mcal_std_day\u001b[49m\u001b[43m(\u001b[49m\u001b[38;5;241;43m0\u001b[39;49m\u001b[43m)\u001b[49m\u001b[38;5;241;43m+\u001b[39;49m\u001b[38;5;124;43m'\u001b[39;49m\u001b[38;5;124;43m.log\u001b[39;49m\u001b[38;5;124;43m'\u001b[39;49m\u001b[43m)\u001b[49m\n\u001b[1;32m      5\u001b[0m co_logger\u001b[38;5;241m.\u001b[39maddHandler(handler)\n",
      "File \u001b[0;32m/usr/lib/python3.8/logging/__init__.py:1147\u001b[0m, in \u001b[0;36mFileHandler.__init__\u001b[0;34m(self, filename, mode, encoding, delay)\u001b[0m\n\u001b[1;32m   1145\u001b[0m     \u001b[38;5;28mself\u001b[39m\u001b[38;5;241m.\u001b[39mstream \u001b[38;5;241m=\u001b[39m \u001b[38;5;28;01mNone\u001b[39;00m\n\u001b[1;32m   1146\u001b[0m \u001b[38;5;28;01melse\u001b[39;00m:\n\u001b[0;32m-> 1147\u001b[0m     StreamHandler\u001b[38;5;241m.\u001b[39m\u001b[38;5;21m__init__\u001b[39m(\u001b[38;5;28mself\u001b[39m, \u001b[38;5;28;43mself\u001b[39;49m\u001b[38;5;241;43m.\u001b[39;49m\u001b[43m_open\u001b[49m\u001b[43m(\u001b[49m\u001b[43m)\u001b[49m)\n",
      "File \u001b[0;32m/usr/lib/python3.8/logging/__init__.py:1176\u001b[0m, in \u001b[0;36mFileHandler._open\u001b[0;34m(self)\u001b[0m\n\u001b[1;32m   1171\u001b[0m \u001b[38;5;28;01mdef\u001b[39;00m \u001b[38;5;21m_open\u001b[39m(\u001b[38;5;28mself\u001b[39m):\n\u001b[1;32m   1172\u001b[0m     \u001b[38;5;124;03m\"\"\"\u001b[39;00m\n\u001b[1;32m   1173\u001b[0m \u001b[38;5;124;03m    Open the current base file with the (original) mode and encoding.\u001b[39;00m\n\u001b[1;32m   1174\u001b[0m \u001b[38;5;124;03m    Return the resulting stream.\u001b[39;00m\n\u001b[1;32m   1175\u001b[0m \u001b[38;5;124;03m    \"\"\"\u001b[39;00m\n\u001b[0;32m-> 1176\u001b[0m     \u001b[38;5;28;01mreturn\u001b[39;00m \u001b[38;5;28;43mopen\u001b[39;49m\u001b[43m(\u001b[49m\u001b[38;5;28;43mself\u001b[39;49m\u001b[38;5;241;43m.\u001b[39;49m\u001b[43mbaseFilename\u001b[49m\u001b[43m,\u001b[49m\u001b[43m \u001b[49m\u001b[38;5;28;43mself\u001b[39;49m\u001b[38;5;241;43m.\u001b[39;49m\u001b[43mmode\u001b[49m\u001b[43m,\u001b[49m\u001b[43m \u001b[49m\u001b[43mencoding\u001b[49m\u001b[38;5;241;43m=\u001b[39;49m\u001b[38;5;28;43mself\u001b[39;49m\u001b[38;5;241;43m.\u001b[39;49m\u001b[43mencoding\u001b[49m\u001b[43m)\u001b[49m\n",
      "\u001b[0;31mFileNotFoundError\u001b[0m: [Errno 2] No such file or directory: '/home/big/study/spark/log/rest_api/2022-09-27.log'"
     ]
    }
   ],
   "source": [
    "#logger\n",
    "import logging\n",
    "co_logger = logging.getLogger('realestate_api')\n",
    "handler = logging.FileHandler('./log/rest_api/'+cal_std_day(0)+'.log')\n",
    "co_logger.addHandler(handler)"
   ]
  },
  {
   "cell_type": "code",
   "execution_count": 11,
   "id": "71e49dca",
   "metadata": {},
   "outputs": [],
   "source": [
    "for i in range(1,2):\n",
    "    params = create_param(i)\n",
    "    log_dict = {\n",
    "        'is_sucess':'Fail'\n",
    "        ,'type':'realestate_data'\n",
    "        ,'search_type_api':params['search_type_api']\n",
    "        ,'params':params}\n",
    "    \n",
    "    try :\n",
    "        res = execute_rest_api('get',url,(),params)\n",
    "        file_name = 'realestate_data_' + params['search_type_api'] + '.json'\n",
    "        client.write(file_dir + file_name, res, encoding='utf-8')\n",
    "    except Exception as e :\n",
    "        log_dict['err_msg'] = e.__str__()\n",
    "        log_json = json.dumps(log_dict,ensure_ascii=False)\n",
    "        co_logger.error(log_json)"
   ]
  },
  {
   "cell_type": "code",
   "execution_count": null,
   "id": "adef7d36",
   "metadata": {},
   "outputs": [],
   "source": []
  },
  {
   "cell_type": "code",
   "execution_count": null,
   "id": "d79e363e",
   "metadata": {},
   "outputs": [],
   "source": []
  },
  {
   "cell_type": "code",
   "execution_count": null,
   "id": "6c75ea74",
   "metadata": {},
   "outputs": [],
   "source": []
  },
  {
   "cell_type": "markdown",
   "id": "3a29a707",
   "metadata": {},
   "source": [
    "## hdfs로 부터 읽기"
   ]
  },
  {
   "cell_type": "code",
   "execution_count": 5,
   "id": "61cdd1e0",
   "metadata": {},
   "outputs": [],
   "source": [
    "client = InsecureClient('http://localhost:9870', user='big')"
   ]
  },
  {
   "cell_type": "code",
   "execution_count": 3,
   "id": "840242ba",
   "metadata": {},
   "outputs": [
    {
     "name": "stdout",
     "output_type": "stream",
     "text": [
      "하명도 스파크 50\r\n",
      "홍길동 스파크 80\r\n",
      "임꺽정 스파크 60\r\n",
      "임요환 텐서플로우 100\r\n",
      "홍진호 텐서플로우 22\r\n",
      "홍진호 텐서플로우 22\r\n",
      "이윤열 텐서플로우 90\r\n",
      "\n"
     ]
    }
   ],
   "source": [
    "with client.read('/rdd/score.txt') as reader:\n",
    "  score = reader.read()\n",
    "\n",
    "score_str = bytes.decode(score)\n",
    "print(score_str)"
   ]
  },
  {
   "cell_type": "markdown",
   "id": "80ab1ccc",
   "metadata": {},
   "source": [
    "## hdfs에 쓰기"
   ]
  },
  {
   "cell_type": "code",
   "execution_count": 4,
   "id": "041e8f79",
   "metadata": {
    "collapsed": true
   },
   "outputs": [
    {
     "ename": "HdfsError",
     "evalue": "/corona_data/loc/sido_area.csv for client 127.0.0.1 already exists\n\tat org.apache.hadoop.hdfs.server.namenode.FSDirWriteFileOp.startFile(FSDirWriteFileOp.java:389)\n\tat org.apache.hadoop.hdfs.server.namenode.FSNamesystem.startFileInt(FSNamesystem.java:2703)\n\tat org.apache.hadoop.hdfs.server.namenode.FSNamesystem.startFile(FSNamesystem.java:2596)\n\tat org.apache.hadoop.hdfs.server.namenode.NameNodeRpcServer.create(NameNodeRpcServer.java:799)\n\tat org.apache.hadoop.hdfs.protocolPB.ClientNamenodeProtocolServerSideTranslatorPB.create(ClientNamenodeProtocolServerSideTranslatorPB.java:494)\n\tat org.apache.hadoop.hdfs.protocol.proto.ClientNamenodeProtocolProtos$ClientNamenodeProtocol$2.callBlockingMethod(ClientNamenodeProtocolProtos.java)\n\tat org.apache.hadoop.ipc.ProtobufRpcEngine2$Server$ProtoBufRpcInvoker.call(ProtobufRpcEngine2.java:604)\n\tat org.apache.hadoop.ipc.ProtobufRpcEngine2$Server$ProtoBufRpcInvoker.call(ProtobufRpcEngine2.java:572)\n\tat org.apache.hadoop.ipc.ProtobufRpcEngine2$Server$ProtoBufRpcInvoker.call(ProtobufRpcEngine2.java:556)\n\tat org.apache.hadoop.ipc.RPC$Server.call(RPC.java:1093)\n\tat org.apache.hadoop.ipc.Server$RpcCall.run(Server.java:1043)\n\tat org.apache.hadoop.ipc.Server$RpcCall.run(Server.java:971)\n\tat java.base/java.security.AccessController.doPrivileged(Native Method)\n\tat java.base/javax.security.auth.Subject.doAs(Subject.java:423)\n\tat org.apache.hadoop.security.UserGroupInformation.doAs(UserGroupInformation.java:1878)\n\tat org.apache.hadoop.ipc.Server$Handler.run(Server.java:2976)\n",
     "output_type": "error",
     "traceback": [
      "\u001b[0;31m---------------------------------------------------------------------------\u001b[0m",
      "\u001b[0;31mHdfsError\u001b[0m                                 Traceback (most recent call last)",
      "Input \u001b[0;32mIn [4]\u001b[0m, in \u001b[0;36m<cell line: 1>\u001b[0;34m()\u001b[0m\n\u001b[1;32m      1\u001b[0m \u001b[38;5;28;01mwith\u001b[39;00m \u001b[38;5;28mopen\u001b[39m(\u001b[38;5;124m'\u001b[39m\u001b[38;5;124m/home/big/study/data/corona_data/sido_area.csv\u001b[39m\u001b[38;5;124m'\u001b[39m, encoding\u001b[38;5;241m=\u001b[39m\u001b[38;5;124m'\u001b[39m\u001b[38;5;124mCP949\u001b[39m\u001b[38;5;124m'\u001b[39m) \u001b[38;5;28;01mas\u001b[39;00m reader, client\u001b[38;5;241m.\u001b[39mwrite(\u001b[38;5;124m'\u001b[39m\u001b[38;5;124m/corona_data/loc/sido_area.csv\u001b[39m\u001b[38;5;124m'\u001b[39m) \u001b[38;5;28;01mas\u001b[39;00m writer:\n\u001b[1;32m      2\u001b[0m   \u001b[38;5;28;01mfor\u001b[39;00m line \u001b[38;5;129;01min\u001b[39;00m reader:\n\u001b[0;32m----> 3\u001b[0m     writer\u001b[38;5;241m.\u001b[39mwrite(line\u001b[38;5;241m.\u001b[39mencode(\u001b[38;5;124m'\u001b[39m\u001b[38;5;124mCP949\u001b[39m\u001b[38;5;124m'\u001b[39m))\n",
      "File \u001b[0;32m~/.local/lib/python3.8/site-packages/hdfs/util.py:104\u001b[0m, in \u001b[0;36mAsyncWriter.__exit__\u001b[0;34m(self, exc_type, exc_value, traceback)\u001b[0m\n\u001b[1;32m    102\u001b[0m   \u001b[38;5;28mself\u001b[39m\u001b[38;5;241m.\u001b[39m_reader\u001b[38;5;241m.\u001b[39mjoin()\n\u001b[1;32m    103\u001b[0m \u001b[38;5;28;01mif\u001b[39;00m \u001b[38;5;28mself\u001b[39m\u001b[38;5;241m.\u001b[39m_err:\n\u001b[0;32m--> 104\u001b[0m   \u001b[38;5;28;01mraise\u001b[39;00m \u001b[38;5;28mself\u001b[39m\u001b[38;5;241m.\u001b[39m_err \u001b[38;5;66;03m# pylint: disable=raising-bad-type\u001b[39;00m\n\u001b[1;32m    105\u001b[0m \u001b[38;5;28;01melse\u001b[39;00m:\n\u001b[1;32m    106\u001b[0m   _logger\u001b[38;5;241m.\u001b[39mdebug(\u001b[38;5;124m'\u001b[39m\u001b[38;5;124mChild terminated without errors.\u001b[39m\u001b[38;5;124m'\u001b[39m)\n",
      "File \u001b[0;32m~/.local/lib/python3.8/site-packages/hdfs/util.py:76\u001b[0m, in \u001b[0;36mAsyncWriter.__enter__.<locals>.consumer\u001b[0;34m(data)\u001b[0m\n\u001b[1;32m     74\u001b[0m \u001b[38;5;28;01mtry\u001b[39;00m:\n\u001b[1;32m     75\u001b[0m   _logger\u001b[38;5;241m.\u001b[39mdebug(\u001b[38;5;124m'\u001b[39m\u001b[38;5;124mStarting consumer.\u001b[39m\u001b[38;5;124m'\u001b[39m)\n\u001b[0;32m---> 76\u001b[0m   \u001b[38;5;28;43mself\u001b[39;49m\u001b[38;5;241;43m.\u001b[39;49m\u001b[43m_consumer\u001b[49m\u001b[43m(\u001b[49m\u001b[43mdata\u001b[49m\u001b[43m)\u001b[49m\n\u001b[1;32m     77\u001b[0m \u001b[38;5;28;01mexcept\u001b[39;00m \u001b[38;5;167;01mException\u001b[39;00m \u001b[38;5;28;01mas\u001b[39;00m err: \u001b[38;5;66;03m# pylint: disable=broad-except\u001b[39;00m\n\u001b[1;32m     78\u001b[0m   _logger\u001b[38;5;241m.\u001b[39mexception(\u001b[38;5;124m'\u001b[39m\u001b[38;5;124mException in child.\u001b[39m\u001b[38;5;124m'\u001b[39m)\n",
      "File \u001b[0;32m~/.local/lib/python3.8/site-packages/hdfs/client.py:522\u001b[0m, in \u001b[0;36mClient.write.<locals>.consumer\u001b[0;34m(_data)\u001b[0m\n\u001b[1;32m    516\u001b[0m res \u001b[38;5;241m=\u001b[39m \u001b[38;5;28mself\u001b[39m\u001b[38;5;241m.\u001b[39m_request(\n\u001b[1;32m    517\u001b[0m   method\u001b[38;5;241m=\u001b[39m\u001b[38;5;124m'\u001b[39m\u001b[38;5;124mPOST\u001b[39m\u001b[38;5;124m'\u001b[39m \u001b[38;5;28;01mif\u001b[39;00m append \u001b[38;5;28;01melse\u001b[39;00m \u001b[38;5;124m'\u001b[39m\u001b[38;5;124mPUT\u001b[39m\u001b[38;5;124m'\u001b[39m,\n\u001b[1;32m    518\u001b[0m   url\u001b[38;5;241m=\u001b[39mloc,\n\u001b[1;32m    519\u001b[0m   data\u001b[38;5;241m=\u001b[39m(c\u001b[38;5;241m.\u001b[39mencode(encoding) \u001b[38;5;28;01mfor\u001b[39;00m c \u001b[38;5;129;01min\u001b[39;00m _data) \u001b[38;5;28;01mif\u001b[39;00m encoding \u001b[38;5;28;01melse\u001b[39;00m _data,\n\u001b[1;32m    520\u001b[0m )\n\u001b[1;32m    521\u001b[0m \u001b[38;5;28;01mif\u001b[39;00m \u001b[38;5;129;01mnot\u001b[39;00m res:\n\u001b[0;32m--> 522\u001b[0m   \u001b[38;5;28;01mraise\u001b[39;00m _to_error(res)\n",
      "\u001b[0;31mHdfsError\u001b[0m: /corona_data/loc/sido_area.csv for client 127.0.0.1 already exists\n\tat org.apache.hadoop.hdfs.server.namenode.FSDirWriteFileOp.startFile(FSDirWriteFileOp.java:389)\n\tat org.apache.hadoop.hdfs.server.namenode.FSNamesystem.startFileInt(FSNamesystem.java:2703)\n\tat org.apache.hadoop.hdfs.server.namenode.FSNamesystem.startFile(FSNamesystem.java:2596)\n\tat org.apache.hadoop.hdfs.server.namenode.NameNodeRpcServer.create(NameNodeRpcServer.java:799)\n\tat org.apache.hadoop.hdfs.protocolPB.ClientNamenodeProtocolServerSideTranslatorPB.create(ClientNamenodeProtocolServerSideTranslatorPB.java:494)\n\tat org.apache.hadoop.hdfs.protocol.proto.ClientNamenodeProtocolProtos$ClientNamenodeProtocol$2.callBlockingMethod(ClientNamenodeProtocolProtos.java)\n\tat org.apache.hadoop.ipc.ProtobufRpcEngine2$Server$ProtoBufRpcInvoker.call(ProtobufRpcEngine2.java:604)\n\tat org.apache.hadoop.ipc.ProtobufRpcEngine2$Server$ProtoBufRpcInvoker.call(ProtobufRpcEngine2.java:572)\n\tat org.apache.hadoop.ipc.ProtobufRpcEngine2$Server$ProtoBufRpcInvoker.call(ProtobufRpcEngine2.java:556)\n\tat org.apache.hadoop.ipc.RPC$Server.call(RPC.java:1093)\n\tat org.apache.hadoop.ipc.Server$RpcCall.run(Server.java:1043)\n\tat org.apache.hadoop.ipc.Server$RpcCall.run(Server.java:971)\n\tat java.base/java.security.AccessController.doPrivileged(Native Method)\n\tat java.base/javax.security.auth.Subject.doAs(Subject.java:423)\n\tat org.apache.hadoop.security.UserGroupInformation.doAs(UserGroupInformation.java:1878)\n\tat org.apache.hadoop.ipc.Server$Handler.run(Server.java:2976)\n"
     ]
    }
   ],
   "source": [
    "with open('/home/big/study/data/corona_data/sido_area.csv', encoding='CP949') as reader, client.write('/corona_data/loc/sido_area.csv') as writer:\n",
    "  for line in reader:\n",
    "    writer.write(line.encode('CP949'))"
   ]
  },
  {
   "cell_type": "code",
   "execution_count": 18,
   "id": "b76c8eb1",
   "metadata": {},
   "outputs": [
    {
     "data": {
      "text/plain": [
       "'/corona_data/loc'"
      ]
     },
     "execution_count": 18,
     "metadata": {},
     "output_type": "execute_result"
    }
   ],
   "source": [
    "client.upload('/corona_data/loc','/home/big/study/data/corona_data/')"
   ]
  },
  {
   "cell_type": "markdown",
   "id": "3445b204",
   "metadata": {},
   "source": [
    "## hdfs에 수정하기"
   ]
  },
  {
   "cell_type": "code",
   "execution_count": 16,
   "id": "d74e19df",
   "metadata": {},
   "outputs": [],
   "source": [
    "client.write('/rdd/score.txt', '최연성 장고 100'.encode('UTF-8'), append=True)"
   ]
  },
  {
   "cell_type": "markdown",
   "id": "3563fa62",
   "metadata": {},
   "source": [
    "## hdfs 권한 수정"
   ]
  },
  {
   "cell_type": "code",
   "execution_count": 19,
   "id": "0446f988",
   "metadata": {},
   "outputs": [],
   "source": [
    "client.set_permission('/corona_data/loc',777)"
   ]
  },
  {
   "cell_type": "markdown",
   "id": "8bd9c921",
   "metadata": {},
   "source": [
    "## hdfs 삭제"
   ]
  },
  {
   "cell_type": "code",
   "execution_count": 6,
   "id": "4b175c33",
   "metadata": {
    "scrolled": true
   },
   "outputs": [
    {
     "data": {
      "text/plain": [
       "True"
      ]
     },
     "execution_count": 6,
     "metadata": {},
     "output_type": "execute_result"
    }
   ],
   "source": [
    "# client.delete('/corona_data/loc/sido_area.xlsx')\n",
    "# client.delete('/corona_data/loc/sido_population.xlsx')\n",
    "client.delete('/corona_data/vaccine/corona_vaccine_2022-09-14json')"
   ]
  },
  {
   "cell_type": "markdown",
   "id": "a56a02bf",
   "metadata": {},
   "source": [
    "## REST_API로 데이터를 호출해 HDFS에 저장"
   ]
  },
  {
   "cell_type": "code",
   "execution_count": 7,
   "id": "c90d2dd6",
   "metadata": {},
   "outputs": [],
   "source": [
    "# !pip install requests\n",
    "def execute_rest_api(method, url, headers, params):\n",
    "    if method == 'get':\n",
    "        res = requests.get(url, params=params, headers=headers)\n",
    "    elif method == 'post':\n",
    "        res = requests.post(url, params=params, headers=headers)\n",
    "        \n",
    "    if res == None or res.status_code != 200:\n",
    "        raise Exception('응답코드 : ' + str(res.status_code))\n",
    "    \n",
    "    return res.text"
   ]
  },
  {
   "cell_type": "markdown",
   "id": "070e38f0",
   "metadata": {},
   "source": [
    "### 기준일자 함수"
   ]
  },
  {
   "cell_type": "code",
   "execution_count": 8,
   "id": "d65c4726",
   "metadata": {},
   "outputs": [],
   "source": [
    "def cal_std_day(before_day):   \n",
    "    x = dt.datetime.now() - dt.timedelta(before_day)\n",
    "    year = x.year\n",
    "    month = x.month if x.month >= 10 else '0'+ str(x.month)\n",
    "    day = x.day if x.day >= 10 else '0'+ str(x.day)  \n",
    "    return str(year)+ '-' +str(month)+ '-' +str(day)"
   ]
  },
  {
   "cell_type": "markdown",
   "id": "6613bb7d",
   "metadata": {},
   "source": [
    "### logger"
   ]
  },
  {
   "cell_type": "code",
   "execution_count": 9,
   "id": "5bec3da6",
   "metadata": {},
   "outputs": [],
   "source": [
    "import logging\n",
    "co_logger = logging.getLogger('corona_api')\n",
    "handler = logging.FileHandler('./log/rest_api/'+cal_std_day(0)+'.log')\n",
    "co_logger.addHandler(handler)"
   ]
  },
  {
   "cell_type": "markdown",
   "id": "2458f459",
   "metadata": {},
   "source": [
    "### api 호출"
   ]
  },
  {
   "cell_type": "code",
   "execution_count": 10,
   "id": "51706ae8",
   "metadata": {},
   "outputs": [],
   "source": [
    "url = \"http://apis.data.go.kr/1352000/ODMS_COVID_04/callCovid04Api\"\n",
    "service_key = 'FLpKLtCKGxZdyjOjusBN64+qVifqOOwiSf55XjXvkS1phB2dbKJZI5FnlWul9rcBxD3OWVllLQCvRjQO3oT8Ng=='\n",
    "file_dir = '/corona_data/patient/'\n",
    "\n",
    "def create_param(before_day):\n",
    "    return {\n",
    "        'serviceKey':service_key\n",
    "        ,'pageNo':'1'\n",
    "        ,'numOfRows':'500'\n",
    "        ,'apiType':'JSON'\n",
    "        ,'std_day':cal_std_day(before_day)}\n",
    "\n",
    "for i in range(1,50):\n",
    "    params = create_param(i)\n",
    "    log_dict = {\n",
    "        'is_sucess':'Fail'\n",
    "        ,'type':'corona_patient'\n",
    "        ,'std_day':params['std_day']\n",
    "        ,'params':params}\n",
    "    \n",
    "    try :\n",
    "        res = execute_rest_api('get',url,(),params)\n",
    "        file_name = 'corona_patient_' + params['std_day'] + '.json'\n",
    "        client.write(file_dir + file_name, res, encoding='utf-8')\n",
    "    except Exception as e :\n",
    "        log_dict['err_msg'] = e.__str__()\n",
    "        log_json = json.dumps(log_dict,ensure_ascii=False)\n",
    "        co_logger.error(log_json)\n",
    "    \n",
    "    \n",
    "    "
   ]
  },
  {
   "cell_type": "markdown",
   "id": "37e340c7",
   "metadata": {},
   "source": [
    "## 웹크롤링 hdfs 저장"
   ]
  },
  {
   "cell_type": "code",
   "execution_count": 11,
   "id": "7fef0b08",
   "metadata": {},
   "outputs": [],
   "source": [
    "#!pip install BeautifulSoup4\n",
    "from bs4 import BeautifulSoup"
   ]
  },
  {
   "cell_type": "code",
   "execution_count": 12,
   "id": "2326a2cb",
   "metadata": {},
   "outputs": [],
   "source": [
    "file_dir = '/corona_data/vaccine/'\n",
    "file_name = '/corona_vaccine_'+cal_std_day(1)+'json'\n",
    "\n",
    "url = 'https://ncv.kdca.go.kr/mainStatus.es?mid=a11702000000'\n",
    "response_txt = execute_rest_api('get',url,{},{})\n",
    "soup = BeautifulSoup(response_txt, 'html.parser')\n",
    "trs = soup.select('#content > div.data_table.tbl_scrl_t > table > tbody > tr')\n",
    "cols = ['loc','v1','v2','v3','v4']\n",
    "data = []\n",
    "\n",
    "for idx, tr in enumerate(trs):\n",
    "    if idx == 0:\n",
    "        continue\n",
    "    th = tr.select('th')\n",
    "    tds = tr.select('td')\n",
    "    \n",
    "    rows = []\n",
    "    rows.append(th[0].text.replace(' ','').replace('\\r\\n',''))\n",
    "    \n",
    "    for idx, td in enumerate(tds):\n",
    "        if idx % 2 == 0:\n",
    "            continue\n",
    "        rows.append(td.text.replace(' ','').replace('\\r\\n','').replace(',',''))\n",
    "    \n",
    "    tmp = dict(zip(cols, rows))\n",
    "    data.append(tmp)\n",
    "    \n",
    "res = {\n",
    "    'meta':{\n",
    "        'desc':'지역별 코로나 예방접종 인구 현황',\n",
    "        'cols':{\n",
    "            'loc':'지역'\n",
    "            ,'v1':'1차 접종자수'\n",
    "            ,'v2':'2차 접종자수'\n",
    "            ,'v3':'3차 접종자수'\n",
    "            ,'v4':'4차 접종자수'\n",
    "        },\n",
    "        'std_day':cal_std_day(1)\n",
    "    },\n",
    "    'data':data\n",
    "}\n",
    "\n",
    "client.write(file_dir + file_name, json.dumps(res, ensure_ascii=False), encoding='utf-8')\n"
   ]
  },
  {
   "cell_type": "code",
   "execution_count": 13,
   "id": "84e5161c",
   "metadata": {},
   "outputs": [
    {
     "data": {
      "text/plain": [
       "[{'loc': '서울',\n",
       "  'v1': '8340502',\n",
       "  'v2': '8261480',\n",
       "  'v3': '6057684',\n",
       "  'v4': '1226070'},\n",
       " {'loc': '부산',\n",
       "  'v1': '2879898',\n",
       "  'v2': '2850966',\n",
       "  'v3': '2134635',\n",
       "  'v4': '488630'},\n",
       " {'loc': '대구',\n",
       "  'v1': '2019295',\n",
       "  'v2': '1996343',\n",
       "  'v3': '1402649',\n",
       "  'v4': '259429'},\n",
       " {'loc': '인천',\n",
       "  'v1': '2570641',\n",
       "  'v2': '2546081',\n",
       "  'v3': '1907586',\n",
       "  'v4': '394343'},\n",
       " {'loc': '광주',\n",
       "  'v1': '1262690',\n",
       "  'v2': '1251019',\n",
       "  'v3': '968067',\n",
       "  'v4': '233610'},\n",
       " {'loc': '대전',\n",
       "  'v1': '1246228',\n",
       "  'v2': '1233946',\n",
       "  'v3': '907587',\n",
       "  'v4': '193191'},\n",
       " {'loc': '울산', 'v1': '968595', 'v2': '959237', 'v3': '719491', 'v4': '124886'},\n",
       " {'loc': '세종', 'v1': '298593', 'v2': '294823', 'v3': '209151', 'v4': '34585'},\n",
       " {'loc': '경기',\n",
       "  'v1': '11827822',\n",
       "  'v2': '11711865',\n",
       "  'v3': '8677235',\n",
       "  'v4': '1680362'},\n",
       " {'loc': '강원',\n",
       "  'v1': '1350315',\n",
       "  'v2': '1338931',\n",
       "  'v3': '1062086',\n",
       "  'v4': '269222'},\n",
       " {'loc': '충북',\n",
       "  'v1': '1429582',\n",
       "  'v2': '1416910',\n",
       "  'v3': '1105875',\n",
       "  'v4': '277332'},\n",
       " {'loc': '충남',\n",
       "  'v1': '1899475',\n",
       "  'v2': '1881779',\n",
       "  'v3': '1475491',\n",
       "  'v4': '365655'},\n",
       " {'loc': '전북',\n",
       "  'v1': '1593746',\n",
       "  'v2': '1580541',\n",
       "  'v3': '1284133',\n",
       "  'v4': '370187'},\n",
       " {'loc': '전남',\n",
       "  'v1': '1654751',\n",
       "  'v2': '1640068',\n",
       "  'v3': '1363212',\n",
       "  'v4': '444061'},\n",
       " {'loc': '경북',\n",
       "  'v1': '2293357',\n",
       "  'v2': '2269405',\n",
       "  'v3': '1724517',\n",
       "  'v4': '394769'},\n",
       " {'loc': '경남',\n",
       "  'v1': '2883515',\n",
       "  'v2': '2854106',\n",
       "  'v3': '2142110',\n",
       "  'v4': '483703'},\n",
       " {'loc': '제주', 'v1': '590581', 'v2': '584814', 'v3': '437805', 'v4': '92009'}]"
      ]
     },
     "execution_count": 13,
     "metadata": {},
     "output_type": "execute_result"
    }
   ],
   "source": [
    "data"
   ]
  },
  {
   "cell_type": "code",
   "execution_count": null,
   "id": "b9ce105c",
   "metadata": {},
   "outputs": [],
   "source": []
  }
 ],
 "metadata": {
  "kernelspec": {
   "display_name": "Python 3 (ipykernel)",
   "language": "python",
   "name": "python3"
  },
  "language_info": {
   "codemirror_mode": {
    "name": "ipython",
    "version": 3
   },
   "file_extension": ".py",
   "mimetype": "text/x-python",
   "name": "python",
   "nbconvert_exporter": "python",
   "pygments_lexer": "ipython3",
   "version": "3.8.10"
  },
  "vscode": {
   "interpreter": {
    "hash": "916dbcbb3f70747c44a77c7bcd40155683ae19c65e1c03b4aa3499c5328201f1"
   }
  }
 },
 "nbformat": 4,
 "nbformat_minor": 5
}
