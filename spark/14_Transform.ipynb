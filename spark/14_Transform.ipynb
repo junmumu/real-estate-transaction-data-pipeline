{
 "cells": [
  {
   "cell_type": "code",
   "execution_count": 2,
   "id": "8af39380",
   "metadata": {},
   "outputs": [],
   "source": [
    "from IPython.core.interactiveshell import InteractiveShell\n",
    "InteractiveShell.ast_node_interactivity = \"all\""
   ]
  },
  {
   "cell_type": "code",
   "execution_count": 1,
   "id": "02bb9f0a",
   "metadata": {},
   "outputs": [],
   "source": [
    "# !pip install databricks-api\n",
    "from databricks_api import DatabricksAPI\n",
    "import requests\n",
    "import json\n",
    "import datetime as dt\n",
    "from hdfs import InsecureClient\n",
    "import xmltodict"
   ]
  },
  {
   "cell_type": "code",
   "execution_count": 6,
   "id": "fd5269e0",
   "metadata": {},
   "outputs": [
    {
     "ename": "Py4JJavaError",
     "evalue": "An error occurred while calling o48.load.\n: java.lang.ClassNotFoundException: \nFailed to find data source: xml. Please find packages at\nhttp://spark.apache.org/third-party-projects.html\n       \n\tat org.apache.spark.sql.errors.QueryExecutionErrors$.failedToFindDataSourceError(QueryExecutionErrors.scala:443)\n\tat org.apache.spark.sql.execution.datasources.DataSource$.lookupDataSource(DataSource.scala:670)\n\tat org.apache.spark.sql.execution.datasources.DataSource$.lookupDataSourceV2(DataSource.scala:720)\n\tat org.apache.spark.sql.DataFrameReader.load(DataFrameReader.scala:210)\n\tat org.apache.spark.sql.DataFrameReader.load(DataFrameReader.scala:188)\n\tat java.base/jdk.internal.reflect.NativeMethodAccessorImpl.invoke0(Native Method)\n\tat java.base/jdk.internal.reflect.NativeMethodAccessorImpl.invoke(NativeMethodAccessorImpl.java:62)\n\tat java.base/jdk.internal.reflect.DelegatingMethodAccessorImpl.invoke(DelegatingMethodAccessorImpl.java:43)\n\tat java.base/java.lang.reflect.Method.invoke(Method.java:566)\n\tat py4j.reflection.MethodInvoker.invoke(MethodInvoker.java:244)\n\tat py4j.reflection.ReflectionEngine.invoke(ReflectionEngine.java:357)\n\tat py4j.Gateway.invoke(Gateway.java:282)\n\tat py4j.commands.AbstractCommand.invokeMethod(AbstractCommand.java:132)\n\tat py4j.commands.CallCommand.execute(CallCommand.java:79)\n\tat py4j.ClientServerConnection.waitForCommands(ClientServerConnection.java:182)\n\tat py4j.ClientServerConnection.run(ClientServerConnection.java:106)\n\tat java.base/java.lang.Thread.run(Thread.java:829)\nCaused by: java.lang.ClassNotFoundException: xml.DefaultSource\n\tat java.base/java.net.URLClassLoader.findClass(URLClassLoader.java:476)\n\tat java.base/java.lang.ClassLoader.loadClass(ClassLoader.java:589)\n\tat java.base/java.lang.ClassLoader.loadClass(ClassLoader.java:522)\n\tat org.apache.spark.sql.execution.datasources.DataSource$.$anonfun$lookupDataSource$5(DataSource.scala:656)\n\tat scala.util.Try$.apply(Try.scala:213)\n\tat org.apache.spark.sql.execution.datasources.DataSource$.$anonfun$lookupDataSource$4(DataSource.scala:656)\n\tat scala.util.Failure.orElse(Try.scala:224)\n\tat org.apache.spark.sql.execution.datasources.DataSource$.lookupDataSource(DataSource.scala:656)\n\t... 15 more\n",
     "output_type": "error",
     "traceback": [
      "\u001b[0;31m---------------------------------------------------------------------------\u001b[0m",
      "\u001b[0;31mPy4JJavaError\u001b[0m                             Traceback (most recent call last)",
      "Input \u001b[0;32mIn [6]\u001b[0m, in \u001b[0;36m<cell line: 1>\u001b[0;34m()\u001b[0m\n\u001b[0;32m----> 1\u001b[0m dfResult \u001b[38;5;241m=\u001b[39m \u001b[43mspark\u001b[49m\u001b[38;5;241;43m.\u001b[39;49m\u001b[43mread\u001b[49m\u001b[38;5;241;43m.\u001b[39;49m\u001b[43mformat\u001b[49m\u001b[43m(\u001b[49m\u001b[38;5;124;43m'\u001b[39;49m\u001b[38;5;124;43mxml\u001b[39;49m\u001b[38;5;124;43m'\u001b[39;49m\u001b[43m)\u001b[49m\u001b[43m \u001b[49m\u001b[43m\\\u001b[49m\n\u001b[1;32m      2\u001b[0m \u001b[38;5;241;43m.\u001b[39;49m\u001b[43moptions\u001b[49m\u001b[43m(\u001b[49m\u001b[43mcharset\u001b[49m\u001b[38;5;241;43m=\u001b[39;49m\u001b[38;5;124;43m'\u001b[39;49m\u001b[38;5;124;43mutf-8\u001b[39;49m\u001b[38;5;124;43m'\u001b[39;49m\u001b[43m)\u001b[49m\u001b[43m\\\u001b[49m\n\u001b[1;32m      3\u001b[0m \u001b[38;5;241;43m.\u001b[39;49m\u001b[43mload\u001b[49m\u001b[43m(\u001b[49m\u001b[38;5;124;43m'\u001b[39;49m\u001b[38;5;124;43m/realestate_data/apartment_price/apartment_price_data_201401.xml\u001b[39;49m\u001b[38;5;124;43m'\u001b[39;49m\u001b[43m)\u001b[49m\n",
      "File \u001b[0;32m~/spark/python/pyspark/sql/readwriter.py:158\u001b[0m, in \u001b[0;36mDataFrameReader.load\u001b[0;34m(self, path, format, schema, **options)\u001b[0m\n\u001b[1;32m    156\u001b[0m \u001b[38;5;28mself\u001b[39m\u001b[38;5;241m.\u001b[39moptions(\u001b[38;5;241m*\u001b[39m\u001b[38;5;241m*\u001b[39moptions)\n\u001b[1;32m    157\u001b[0m \u001b[38;5;28;01mif\u001b[39;00m \u001b[38;5;28misinstance\u001b[39m(path, \u001b[38;5;28mstr\u001b[39m):\n\u001b[0;32m--> 158\u001b[0m     \u001b[38;5;28;01mreturn\u001b[39;00m \u001b[38;5;28mself\u001b[39m\u001b[38;5;241m.\u001b[39m_df(\u001b[38;5;28;43mself\u001b[39;49m\u001b[38;5;241;43m.\u001b[39;49m\u001b[43m_jreader\u001b[49m\u001b[38;5;241;43m.\u001b[39;49m\u001b[43mload\u001b[49m\u001b[43m(\u001b[49m\u001b[43mpath\u001b[49m\u001b[43m)\u001b[49m)\n\u001b[1;32m    159\u001b[0m \u001b[38;5;28;01melif\u001b[39;00m path \u001b[38;5;129;01mis\u001b[39;00m \u001b[38;5;129;01mnot\u001b[39;00m \u001b[38;5;28;01mNone\u001b[39;00m:\n\u001b[1;32m    160\u001b[0m     \u001b[38;5;28;01mif\u001b[39;00m \u001b[38;5;28mtype\u001b[39m(path) \u001b[38;5;241m!=\u001b[39m \u001b[38;5;28mlist\u001b[39m:\n",
      "File \u001b[0;32m~/spark/python/lib/py4j-0.10.9.5-src.zip/py4j/java_gateway.py:1321\u001b[0m, in \u001b[0;36mJavaMember.__call__\u001b[0;34m(self, *args)\u001b[0m\n\u001b[1;32m   1315\u001b[0m command \u001b[38;5;241m=\u001b[39m proto\u001b[38;5;241m.\u001b[39mCALL_COMMAND_NAME \u001b[38;5;241m+\u001b[39m\\\n\u001b[1;32m   1316\u001b[0m     \u001b[38;5;28mself\u001b[39m\u001b[38;5;241m.\u001b[39mcommand_header \u001b[38;5;241m+\u001b[39m\\\n\u001b[1;32m   1317\u001b[0m     args_command \u001b[38;5;241m+\u001b[39m\\\n\u001b[1;32m   1318\u001b[0m     proto\u001b[38;5;241m.\u001b[39mEND_COMMAND_PART\n\u001b[1;32m   1320\u001b[0m answer \u001b[38;5;241m=\u001b[39m \u001b[38;5;28mself\u001b[39m\u001b[38;5;241m.\u001b[39mgateway_client\u001b[38;5;241m.\u001b[39msend_command(command)\n\u001b[0;32m-> 1321\u001b[0m return_value \u001b[38;5;241m=\u001b[39m \u001b[43mget_return_value\u001b[49m\u001b[43m(\u001b[49m\n\u001b[1;32m   1322\u001b[0m \u001b[43m    \u001b[49m\u001b[43manswer\u001b[49m\u001b[43m,\u001b[49m\u001b[43m \u001b[49m\u001b[38;5;28;43mself\u001b[39;49m\u001b[38;5;241;43m.\u001b[39;49m\u001b[43mgateway_client\u001b[49m\u001b[43m,\u001b[49m\u001b[43m \u001b[49m\u001b[38;5;28;43mself\u001b[39;49m\u001b[38;5;241;43m.\u001b[39;49m\u001b[43mtarget_id\u001b[49m\u001b[43m,\u001b[49m\u001b[43m \u001b[49m\u001b[38;5;28;43mself\u001b[39;49m\u001b[38;5;241;43m.\u001b[39;49m\u001b[43mname\u001b[49m\u001b[43m)\u001b[49m\n\u001b[1;32m   1324\u001b[0m \u001b[38;5;28;01mfor\u001b[39;00m temp_arg \u001b[38;5;129;01min\u001b[39;00m temp_args:\n\u001b[1;32m   1325\u001b[0m     temp_arg\u001b[38;5;241m.\u001b[39m_detach()\n",
      "File \u001b[0;32m~/spark/python/pyspark/sql/utils.py:111\u001b[0m, in \u001b[0;36mcapture_sql_exception.<locals>.deco\u001b[0;34m(*a, **kw)\u001b[0m\n\u001b[1;32m    109\u001b[0m \u001b[38;5;28;01mdef\u001b[39;00m \u001b[38;5;21mdeco\u001b[39m(\u001b[38;5;241m*\u001b[39ma, \u001b[38;5;241m*\u001b[39m\u001b[38;5;241m*\u001b[39mkw):\n\u001b[1;32m    110\u001b[0m     \u001b[38;5;28;01mtry\u001b[39;00m:\n\u001b[0;32m--> 111\u001b[0m         \u001b[38;5;28;01mreturn\u001b[39;00m \u001b[43mf\u001b[49m\u001b[43m(\u001b[49m\u001b[38;5;241;43m*\u001b[39;49m\u001b[43ma\u001b[49m\u001b[43m,\u001b[49m\u001b[43m \u001b[49m\u001b[38;5;241;43m*\u001b[39;49m\u001b[38;5;241;43m*\u001b[39;49m\u001b[43mkw\u001b[49m\u001b[43m)\u001b[49m\n\u001b[1;32m    112\u001b[0m     \u001b[38;5;28;01mexcept\u001b[39;00m py4j\u001b[38;5;241m.\u001b[39mprotocol\u001b[38;5;241m.\u001b[39mPy4JJavaError \u001b[38;5;28;01mas\u001b[39;00m e:\n\u001b[1;32m    113\u001b[0m         converted \u001b[38;5;241m=\u001b[39m convert_exception(e\u001b[38;5;241m.\u001b[39mjava_exception)\n",
      "File \u001b[0;32m~/spark/python/lib/py4j-0.10.9.5-src.zip/py4j/protocol.py:326\u001b[0m, in \u001b[0;36mget_return_value\u001b[0;34m(answer, gateway_client, target_id, name)\u001b[0m\n\u001b[1;32m    324\u001b[0m value \u001b[38;5;241m=\u001b[39m OUTPUT_CONVERTER[\u001b[38;5;28mtype\u001b[39m](answer[\u001b[38;5;241m2\u001b[39m:], gateway_client)\n\u001b[1;32m    325\u001b[0m \u001b[38;5;28;01mif\u001b[39;00m answer[\u001b[38;5;241m1\u001b[39m] \u001b[38;5;241m==\u001b[39m REFERENCE_TYPE:\n\u001b[0;32m--> 326\u001b[0m     \u001b[38;5;28;01mraise\u001b[39;00m Py4JJavaError(\n\u001b[1;32m    327\u001b[0m         \u001b[38;5;124m\"\u001b[39m\u001b[38;5;124mAn error occurred while calling \u001b[39m\u001b[38;5;132;01m{0}\u001b[39;00m\u001b[38;5;132;01m{1}\u001b[39;00m\u001b[38;5;132;01m{2}\u001b[39;00m\u001b[38;5;124m.\u001b[39m\u001b[38;5;130;01m\\n\u001b[39;00m\u001b[38;5;124m\"\u001b[39m\u001b[38;5;241m.\u001b[39m\n\u001b[1;32m    328\u001b[0m         \u001b[38;5;28mformat\u001b[39m(target_id, \u001b[38;5;124m\"\u001b[39m\u001b[38;5;124m.\u001b[39m\u001b[38;5;124m\"\u001b[39m, name), value)\n\u001b[1;32m    329\u001b[0m \u001b[38;5;28;01melse\u001b[39;00m:\n\u001b[1;32m    330\u001b[0m     \u001b[38;5;28;01mraise\u001b[39;00m Py4JError(\n\u001b[1;32m    331\u001b[0m         \u001b[38;5;124m\"\u001b[39m\u001b[38;5;124mAn error occurred while calling \u001b[39m\u001b[38;5;132;01m{0}\u001b[39;00m\u001b[38;5;132;01m{1}\u001b[39;00m\u001b[38;5;132;01m{2}\u001b[39;00m\u001b[38;5;124m. Trace:\u001b[39m\u001b[38;5;130;01m\\n\u001b[39;00m\u001b[38;5;132;01m{3}\u001b[39;00m\u001b[38;5;130;01m\\n\u001b[39;00m\u001b[38;5;124m\"\u001b[39m\u001b[38;5;241m.\u001b[39m\n\u001b[1;32m    332\u001b[0m         \u001b[38;5;28mformat\u001b[39m(target_id, \u001b[38;5;124m\"\u001b[39m\u001b[38;5;124m.\u001b[39m\u001b[38;5;124m\"\u001b[39m, name, value))\n",
      "\u001b[0;31mPy4JJavaError\u001b[0m: An error occurred while calling o48.load.\n: java.lang.ClassNotFoundException: \nFailed to find data source: xml. Please find packages at\nhttp://spark.apache.org/third-party-projects.html\n       \n\tat org.apache.spark.sql.errors.QueryExecutionErrors$.failedToFindDataSourceError(QueryExecutionErrors.scala:443)\n\tat org.apache.spark.sql.execution.datasources.DataSource$.lookupDataSource(DataSource.scala:670)\n\tat org.apache.spark.sql.execution.datasources.DataSource$.lookupDataSourceV2(DataSource.scala:720)\n\tat org.apache.spark.sql.DataFrameReader.load(DataFrameReader.scala:210)\n\tat org.apache.spark.sql.DataFrameReader.load(DataFrameReader.scala:188)\n\tat java.base/jdk.internal.reflect.NativeMethodAccessorImpl.invoke0(Native Method)\n\tat java.base/jdk.internal.reflect.NativeMethodAccessorImpl.invoke(NativeMethodAccessorImpl.java:62)\n\tat java.base/jdk.internal.reflect.DelegatingMethodAccessorImpl.invoke(DelegatingMethodAccessorImpl.java:43)\n\tat java.base/java.lang.reflect.Method.invoke(Method.java:566)\n\tat py4j.reflection.MethodInvoker.invoke(MethodInvoker.java:244)\n\tat py4j.reflection.ReflectionEngine.invoke(ReflectionEngine.java:357)\n\tat py4j.Gateway.invoke(Gateway.java:282)\n\tat py4j.commands.AbstractCommand.invokeMethod(AbstractCommand.java:132)\n\tat py4j.commands.CallCommand.execute(CallCommand.java:79)\n\tat py4j.ClientServerConnection.waitForCommands(ClientServerConnection.java:182)\n\tat py4j.ClientServerConnection.run(ClientServerConnection.java:106)\n\tat java.base/java.lang.Thread.run(Thread.java:829)\nCaused by: java.lang.ClassNotFoundException: xml.DefaultSource\n\tat java.base/java.net.URLClassLoader.findClass(URLClassLoader.java:476)\n\tat java.base/java.lang.ClassLoader.loadClass(ClassLoader.java:589)\n\tat java.base/java.lang.ClassLoader.loadClass(ClassLoader.java:522)\n\tat org.apache.spark.sql.execution.datasources.DataSource$.$anonfun$lookupDataSource$5(DataSource.scala:656)\n\tat scala.util.Try$.apply(Try.scala:213)\n\tat org.apache.spark.sql.execution.datasources.DataSource$.$anonfun$lookupDataSource$4(DataSource.scala:656)\n\tat scala.util.Failure.orElse(Try.scala:224)\n\tat org.apache.spark.sql.execution.datasources.DataSource$.lookupDataSource(DataSource.scala:656)\n\t... 15 more\n"
     ]
    }
   ],
   "source": [
    "dfResult = spark.read.format('xml') \\\n",
    ".options(charset='utf-8')\\\n",
    ".load('/realestate_data/apartment_price/apartment_price_data_201401.xml')"
   ]
  },
  {
   "cell_type": "code",
   "execution_count": 14,
   "id": "62d86075",
   "metadata": {},
   "outputs": [
    {
     "ename": "AttributeError",
     "evalue": "'DataFrameReader' object has no attribute 'xml'",
     "output_type": "error",
     "traceback": [
      "\u001b[0;31m---------------------------------------------------------------------------\u001b[0m",
      "\u001b[0;31mAttributeError\u001b[0m                            Traceback (most recent call last)",
      "Input \u001b[0;32mIn [14]\u001b[0m, in \u001b[0;36m<cell line: 2>\u001b[0;34m()\u001b[0m\n\u001b[1;32m      1\u001b[0m file_name \u001b[38;5;241m=\u001b[39m \u001b[38;5;124m'\u001b[39m\u001b[38;5;124m/realestate_data/apartment_price/apartment_price_data_201401.xml\u001b[39m\u001b[38;5;124m'\u001b[39m\n\u001b[0;32m----> 2\u001b[0m df \u001b[38;5;241m=\u001b[39m \u001b[43mspark\u001b[49m\u001b[38;5;241;43m.\u001b[39;49m\u001b[43mread\u001b[49m\u001b[38;5;241;43m.\u001b[39;49m\u001b[43mformat\u001b[49m\u001b[43m(\u001b[49m\u001b[38;5;124;43m\"\u001b[39;49m\u001b[38;5;124;43mcom.databricks.spark.xml\u001b[39;49m\u001b[38;5;124;43m\"\u001b[39;49m\u001b[43m)\u001b[49m\u001b[38;5;241;43m.\u001b[39;49m\u001b[43moption\u001b[49m\u001b[43m(\u001b[49m\u001b[38;5;124;43m\"\u001b[39;49m\u001b[38;5;124;43mrowTag\u001b[39;49m\u001b[38;5;124;43m\"\u001b[39;49m\u001b[43m,\u001b[49m\u001b[43m \u001b[49m\u001b[38;5;124;43m\"\u001b[39;49m\u001b[38;5;124;43mperson\u001b[39;49m\u001b[38;5;124;43m\"\u001b[39;49m\u001b[43m)\u001b[49m\u001b[38;5;241;43m.\u001b[39;49m\u001b[43mxml\u001b[49m(\u001b[38;5;124m\"\u001b[39m\u001b[38;5;124msrc/main/resources/persons.xml\u001b[39m\u001b[38;5;124m\"\u001b[39m)\n",
      "\u001b[0;31mAttributeError\u001b[0m: 'DataFrameReader' object has no attribute 'xml'"
     ]
    }
   ],
   "source": [
    "file_name = '/realestate_data/apartment_price/apartment_price_data_201401.xml'\n",
    "df = spark.read.format(\"com.databricks.spark.xml\").option(\"rowTag\", \"person\").xml(\"src/main/resources/persons.xml\")"
   ]
  },
  {
   "cell_type": "code",
   "execution_count": null,
   "id": "e8fd4798",
   "metadata": {},
   "outputs": [],
   "source": []
  },
  {
   "cell_type": "code",
   "execution_count": null,
   "id": "afb0528a",
   "metadata": {},
   "outputs": [],
   "source": []
  },
  {
   "cell_type": "code",
   "execution_count": null,
   "id": "0bc20ffe",
   "metadata": {},
   "outputs": [],
   "source": []
  },
  {
   "cell_type": "code",
   "execution_count": null,
   "id": "df90c6b3",
   "metadata": {},
   "outputs": [],
   "source": []
  },
  {
   "cell_type": "code",
   "execution_count": null,
   "id": "56d77f09",
   "metadata": {},
   "outputs": [],
   "source": []
  },
  {
   "cell_type": "code",
   "execution_count": 5,
   "id": "779493fe",
   "metadata": {},
   "outputs": [],
   "source": [
    "def cal_std_day(befor_day):   \n",
    "    x = dt.datetime.now() - dt.timedelta(befor_day)\n",
    "    year = x.year\n",
    "    month = x.month if x.month >= 10 else '0'+ str(x.month)\n",
    "    day = x.day if x.day >= 10 else '0'+ str(x.day)  \n",
    "    return str(year) +str(month) +str(day)"
   ]
  },
  {
   "cell_type": "code",
   "execution_count": 4,
   "id": "3c278383",
   "metadata": {},
   "outputs": [],
   "source": [
    "import platform\n",
    "\n",
    "from matplotlib import font_manager, rc\n",
    "plt.rcParams['axes.unicode_minus'] = False\n",
    "\n",
    "if platform.system() == 'Darwin':  # 맥OS \n",
    "    rc('font', family='AppleGothic')\n",
    "elif platform.system() == 'Windows':  # 윈도우\n",
    "    path = \"c:/Windows/Fonts/malgun.ttf\"\n",
    "    font_name = font_manager.FontProperties(fname=path).get_name()\n",
    "    rc('font', family=font_name)\n",
    "else:\n",
    "    rc('font', family='NanumGothic')"
   ]
  },
  {
   "cell_type": "markdown",
   "id": "18f54dbe",
   "metadata": {},
   "source": [
    "## Transform"
   ]
  },
  {
   "cell_type": "code",
   "execution_count": 68,
   "id": "0e571457",
   "metadata": {},
   "outputs": [
    {
     "data": {
      "text/plain": [
       "Row(result=Row(head=Row(returnCode='APIINFO-0001', returnMessage='정상 처리되었습니다.', totalCount='104'), items=Row(item=[Row(adminRegn1Name='서울특별시', adminRegn2Name='', bdata_age='19세~29세', resDate='2022-09-27', sex='여자', tot='2'), Row(adminRegn1Name='서울특별시', adminRegn2Name='', bdata_age='30세~39세', resDate='2022-09-27', sex='여자', tot='5'), Row(adminRegn1Name='서울특별시', adminRegn2Name='', bdata_age='40세~49세', resDate='2022-09-27', sex='여자', tot='5'), Row(adminRegn1Name='서울특별시', adminRegn2Name='', bdata_age='50세~59세', resDate='2022-09-27', sex='여자', tot='1'), Row(adminRegn1Name='서울특별시', adminRegn2Name='', bdata_age='60세~69세', resDate='2022-09-27', sex='여자', tot='7'), Row(adminRegn1Name='서울특별시', adminRegn2Name='', bdata_age='70세 이상', resDate='2022-09-27', sex='여자', tot='1'), Row(adminRegn1Name='서울특별시', adminRegn2Name='', bdata_age='30세~39세', resDate='2022-09-27', sex='남자', tot='2'), Row(adminRegn1Name='서울특별시', adminRegn2Name='', bdata_age='40세~49세', resDate='2022-09-27', sex='남자', tot='5'), Row(adminRegn1Name='서울특별시', adminRegn2Name='', bdata_age='50세~59세', resDate='2022-09-27', sex='남자', tot='1'), Row(adminRegn1Name='서울특별시', adminRegn2Name='', bdata_age='60세~69세', resDate='2022-09-27', sex='남자', tot='3'), Row(adminRegn1Name='부산광역시', adminRegn2Name='', bdata_age='30세~39세', resDate='2022-09-27', sex='여자', tot='1'), Row(adminRegn1Name='부산광역시', adminRegn2Name='', bdata_age='40세~49세', resDate='2022-09-27', sex='여자', tot='1'), Row(adminRegn1Name='부산광역시', adminRegn2Name='', bdata_age='40세~49세', resDate='2022-09-27', sex='남자', tot='2'), Row(adminRegn1Name='인천광역시', adminRegn2Name='', bdata_age='19세~29세', resDate='2022-09-27', sex='여자', tot='1'), Row(adminRegn1Name='인천광역시', adminRegn2Name='', bdata_age='30세~39세', resDate='2022-09-27', sex='여자', tot='28'), Row(adminRegn1Name='인천광역시', adminRegn2Name='', bdata_age='40세~49세', resDate='2022-09-27', sex='여자', tot='17'), Row(adminRegn1Name='인천광역시', adminRegn2Name='', bdata_age='50세~59세', resDate='2022-09-27', sex='여자', tot='12'), Row(adminRegn1Name='인천광역시', adminRegn2Name='', bdata_age='60세~69세', resDate='2022-09-27', sex='여자', tot='6'), Row(adminRegn1Name='인천광역시', adminRegn2Name='', bdata_age='19세~29세', resDate='2022-09-27', sex='남자', tot='2'), Row(adminRegn1Name='인천광역시', adminRegn2Name='', bdata_age='30세~39세', resDate='2022-09-27', sex='남자', tot='29'), Row(adminRegn1Name='인천광역시', adminRegn2Name='', bdata_age='40세~49세', resDate='2022-09-27', sex='남자', tot='32'), Row(adminRegn1Name='인천광역시', adminRegn2Name='', bdata_age='50세~59세', resDate='2022-09-27', sex='남자', tot='12'), Row(adminRegn1Name='인천광역시', adminRegn2Name='', bdata_age='60세~69세', resDate='2022-09-27', sex='남자', tot='3'), Row(adminRegn1Name='대전광역시', adminRegn2Name='', bdata_age='60세~69세', resDate='2022-09-27', sex='여자', tot='1'), Row(adminRegn1Name='대전광역시', adminRegn2Name='', bdata_age='50세~59세', resDate='2022-09-27', sex='남자', tot='1'), Row(adminRegn1Name='경기도', adminRegn2Name='', bdata_age='40세~49세', resDate='2022-09-27', sex='여자', tot='4'), Row(adminRegn1Name='경기도', adminRegn2Name='', bdata_age='50세~59세', resDate='2022-09-27', sex='여자', tot='2'), Row(adminRegn1Name='경기도', adminRegn2Name='', bdata_age='60세~69세', resDate='2022-09-27', sex='여자', tot='7'), Row(adminRegn1Name='경기도', adminRegn2Name='', bdata_age='70세 이상', resDate='2022-09-27', sex='여자', tot='4'), Row(adminRegn1Name='경기도', adminRegn2Name='', bdata_age='19세~29세', resDate='2022-09-27', sex='남자', tot='1'), Row(adminRegn1Name='경기도', adminRegn2Name='', bdata_age='30세~39세', resDate='2022-09-27', sex='남자', tot='2'), Row(adminRegn1Name='경기도', adminRegn2Name='', bdata_age='40세~49세', resDate='2022-09-27', sex='남자', tot='1'), Row(adminRegn1Name='경기도', adminRegn2Name='', bdata_age='50세~59세', resDate='2022-09-27', sex='남자', tot='2'), Row(adminRegn1Name='강원도', adminRegn2Name='', bdata_age='30세~39세', resDate='2022-09-27', sex='여자', tot='3'), Row(adminRegn1Name='강원도', adminRegn2Name='', bdata_age='40세~49세', resDate='2022-09-27', sex='여자', tot='2'), Row(adminRegn1Name='강원도', adminRegn2Name='', bdata_age='50세~59세', resDate='2022-09-27', sex='여자', tot='1'), Row(adminRegn1Name='강원도', adminRegn2Name='', bdata_age='60세~69세', resDate='2022-09-27', sex='여자', tot='3'), Row(adminRegn1Name='강원도', adminRegn2Name='', bdata_age='40세~49세', resDate='2022-09-27', sex='남자', tot='5'), Row(adminRegn1Name='강원도', adminRegn2Name='', bdata_age='50세~59세', resDate='2022-09-27', sex='남자', tot='4'), Row(adminRegn1Name='강원도', adminRegn2Name='', bdata_age='60세~69세', resDate='2022-09-27', sex='남자', tot='3'), Row(adminRegn1Name='충청북도', adminRegn2Name='', bdata_age='30세~39세', resDate='2022-09-27', sex='여자', tot='1'), Row(adminRegn1Name='충청북도', adminRegn2Name='', bdata_age='40세~49세', resDate='2022-09-27', sex='여자', tot='4'), Row(adminRegn1Name='충청북도', adminRegn2Name='', bdata_age='50세~59세', resDate='2022-09-27', sex='여자', tot='7'), Row(adminRegn1Name='충청북도', adminRegn2Name='', bdata_age='60세~69세', resDate='2022-09-27', sex='여자', tot='3'), Row(adminRegn1Name='충청북도', adminRegn2Name='', bdata_age='30세~39세', resDate='2022-09-27', sex='남자', tot='1'), Row(adminRegn1Name='충청북도', adminRegn2Name='', bdata_age='40세~49세', resDate='2022-09-27', sex='남자', tot='3'), Row(adminRegn1Name='충청북도', adminRegn2Name='', bdata_age='50세~59세', resDate='2022-09-27', sex='남자', tot='3'), Row(adminRegn1Name='충청북도', adminRegn2Name='', bdata_age='60세~69세', resDate='2022-09-27', sex='남자', tot='6'), Row(adminRegn1Name='충청남도', adminRegn2Name='', bdata_age='19세~29세', resDate='2022-09-27', sex='여자', tot='2'), Row(adminRegn1Name='충청남도', adminRegn2Name='', bdata_age='30세~39세', resDate='2022-09-27', sex='여자', tot='2'), Row(adminRegn1Name='충청남도', adminRegn2Name='', bdata_age='40세~49세', resDate='2022-09-27', sex='여자', tot='2'), Row(adminRegn1Name='충청남도', adminRegn2Name='', bdata_age='50세~59세', resDate='2022-09-27', sex='여자', tot='6'), Row(adminRegn1Name='충청남도', adminRegn2Name='', bdata_age='60세~69세', resDate='2022-09-27', sex='여자', tot='2'), Row(adminRegn1Name='충청남도', adminRegn2Name='', bdata_age='40세~49세', resDate='2022-09-27', sex='남자', tot='2'), Row(adminRegn1Name='충청남도', adminRegn2Name='', bdata_age='50세~59세', resDate='2022-09-27', sex='남자', tot='2'), Row(adminRegn1Name='충청남도', adminRegn2Name='', bdata_age='60세~69세', resDate='2022-09-27', sex='남자', tot='2'), Row(adminRegn1Name='전라북도', adminRegn2Name='', bdata_age='40세~49세', resDate='2022-09-27', sex='여자', tot='3'), Row(adminRegn1Name='전라북도', adminRegn2Name='', bdata_age='50세~59세', resDate='2022-09-27', sex='여자', tot='4'), Row(adminRegn1Name='전라북도', adminRegn2Name='', bdata_age='60세~69세', resDate='2022-09-27', sex='여자', tot='7'), Row(adminRegn1Name='전라북도', adminRegn2Name='', bdata_age='30세~39세', resDate='2022-09-27', sex='남자', tot='7'), Row(adminRegn1Name='전라북도', adminRegn2Name='', bdata_age='40세~49세', resDate='2022-09-27', sex='남자', tot='9'), Row(adminRegn1Name='전라북도', adminRegn2Name='', bdata_age='50세~59세', resDate='2022-09-27', sex='남자', tot='4'), Row(adminRegn1Name='전라북도', adminRegn2Name='', bdata_age='60세~69세', resDate='2022-09-27', sex='남자', tot='8'), Row(adminRegn1Name='전라북도', adminRegn2Name='', bdata_age='70세 이상', resDate='2022-09-27', sex='남자', tot='3'), Row(adminRegn1Name='전라남도', adminRegn2Name='', bdata_age='30세~39세', resDate='2022-09-27', sex='여자', tot='2'), Row(adminRegn1Name='전라남도', adminRegn2Name='', bdata_age='40세~49세', resDate='2022-09-27', sex='여자', tot='6'), Row(adminRegn1Name='전라남도', adminRegn2Name='', bdata_age='50세~59세', resDate='2022-09-27', sex='여자', tot='5'), Row(adminRegn1Name='전라남도', adminRegn2Name='', bdata_age='60세~69세', resDate='2022-09-27', sex='여자', tot='5'), Row(adminRegn1Name='전라남도', adminRegn2Name='', bdata_age='70세 이상', resDate='2022-09-27', sex='여자', tot='4'), Row(adminRegn1Name='전라남도', adminRegn2Name='', bdata_age='19세~29세', resDate='2022-09-27', sex='남자', tot='1'), Row(adminRegn1Name='전라남도', adminRegn2Name='', bdata_age='30세~39세', resDate='2022-09-27', sex='남자', tot='5'), Row(adminRegn1Name='전라남도', adminRegn2Name='', bdata_age='40세~49세', resDate='2022-09-27', sex='남자', tot='1'), Row(adminRegn1Name='전라남도', adminRegn2Name='', bdata_age='50세~59세', resDate='2022-09-27', sex='남자', tot='10'), Row(adminRegn1Name='전라남도', adminRegn2Name='', bdata_age='60세~69세', resDate='2022-09-27', sex='남자', tot='8'), Row(adminRegn1Name='전라남도', adminRegn2Name='', bdata_age='70세 이상', resDate='2022-09-27', sex='남자', tot='3'), Row(adminRegn1Name='경상북도', adminRegn2Name='', bdata_age='19세~29세', resDate='2022-09-27', sex='여자', tot='2'), Row(adminRegn1Name='경상북도', adminRegn2Name='', bdata_age='30세~39세', resDate='2022-09-27', sex='여자', tot='1'), Row(adminRegn1Name='경상북도', adminRegn2Name='', bdata_age='40세~49세', resDate='2022-09-27', sex='여자', tot='10'), Row(adminRegn1Name='경상북도', adminRegn2Name='', bdata_age='50세~59세', resDate='2022-09-27', sex='여자', tot='6'), Row(adminRegn1Name='경상북도', adminRegn2Name='', bdata_age='60세~69세', resDate='2022-09-27', sex='여자', tot='8'), Row(adminRegn1Name='경상북도', adminRegn2Name='', bdata_age='30세~39세', resDate='2022-09-27', sex='남자', tot='3'), Row(adminRegn1Name='경상북도', adminRegn2Name='', bdata_age='40세~49세', resDate='2022-09-27', sex='남자', tot='4'), Row(adminRegn1Name='경상북도', adminRegn2Name='', bdata_age='50세~59세', resDate='2022-09-27', sex='남자', tot='3'), Row(adminRegn1Name='경상북도', adminRegn2Name='', bdata_age='60세~69세', resDate='2022-09-27', sex='남자', tot='8'), Row(adminRegn1Name='경상북도', adminRegn2Name='', bdata_age='70세 이상', resDate='2022-09-27', sex='남자', tot='4'), Row(adminRegn1Name='경상남도', adminRegn2Name='', bdata_age='19세~29세', resDate='2022-09-27', sex='여자', tot='1'), Row(adminRegn1Name='경상남도', adminRegn2Name='', bdata_age='30세~39세', resDate='2022-09-27', sex='여자', tot='2'), Row(adminRegn1Name='경상남도', adminRegn2Name='', bdata_age='40세~49세', resDate='2022-09-27', sex='여자', tot='2'), Row(adminRegn1Name='경상남도', adminRegn2Name='', bdata_age='50세~59세', resDate='2022-09-27', sex='여자', tot='13'), Row(adminRegn1Name='경상남도', adminRegn2Name='', bdata_age='70세 이상', resDate='2022-09-27', sex='여자', tot='1'), Row(adminRegn1Name='경상남도', adminRegn2Name='', bdata_age='30세~39세', resDate='2022-09-27', sex='남자', tot='4'), Row(adminRegn1Name='경상남도', adminRegn2Name='', bdata_age='40세~49세', resDate='2022-09-27', sex='남자', tot='11'), Row(adminRegn1Name='경상남도', adminRegn2Name='', bdata_age='50세~59세', resDate='2022-09-27', sex='남자', tot='4'), Row(adminRegn1Name='경상남도', adminRegn2Name='', bdata_age='60세~69세', resDate='2022-09-27', sex='남자', tot='11'), Row(adminRegn1Name='경상남도', adminRegn2Name='', bdata_age='70세 이상', resDate='2022-09-27', sex='남자', tot='1'), Row(adminRegn1Name='제주특별자치도', adminRegn2Name='', bdata_age='30세~39세', resDate='2022-09-27', sex='여자', tot='3'), Row(adminRegn1Name='제주특별자치도', adminRegn2Name='', bdata_age='40세~49세', resDate='2022-09-27', sex='여자', tot='2'), Row(adminRegn1Name='제주특별자치도', adminRegn2Name='', bdata_age='50세~59세', resDate='2022-09-27', sex='여자', tot='2'), Row(adminRegn1Name='제주특별자치도', adminRegn2Name='', bdata_age='60세~69세', resDate='2022-09-27', sex='여자', tot='3'), Row(adminRegn1Name='제주특별자치도', adminRegn2Name='', bdata_age='19세~29세', resDate='2022-09-27', sex='남자', tot='1'), Row(adminRegn1Name='제주특별자치도', adminRegn2Name='', bdata_age='30세~39세', resDate='2022-09-27', sex='남자', tot='3'), Row(adminRegn1Name='제주특별자치도', adminRegn2Name='', bdata_age='40세~49세', resDate='2022-09-27', sex='남자', tot='1'), Row(adminRegn1Name='제주특별자치도', adminRegn2Name='', bdata_age='60세~69세', resDate='2022-09-27', sex='남자', tot='3'), Row(adminRegn1Name='제주특별자치도', adminRegn2Name='', bdata_age='70세 이상', resDate='2022-09-27', sex='남자', tot='3')])))"
      ]
     },
     "execution_count": 68,
     "metadata": {},
     "output_type": "execute_result"
    }
   ],
   "source": [
    "file_name = '/realestate_data/gender_age/gender_age_data_'+cal_std_day(1)+'.json'\n",
    "tmp = spark.read.json(file_name, encoding='UTF-8')\n",
    "tmp2 = tmp.select('result').first()"
   ]
  },
  {
   "cell_type": "code",
   "execution_count": 59,
   "id": "572d50d3",
   "metadata": {},
   "outputs": [
    {
     "ename": "AnalysisException",
     "evalue": "cannot resolve 'item' given input columns: [result];\n'Project ['item]\n+- Project [result#483]\n   +- Relation [result#483] json\n",
     "output_type": "error",
     "traceback": [
      "\u001b[0;31m---------------------------------------------------------------------------\u001b[0m",
      "\u001b[0;31mAnalysisException\u001b[0m                         Traceback (most recent call last)",
      "Input \u001b[0;32mIn [59]\u001b[0m, in \u001b[0;36m<cell line: 2>\u001b[0;34m()\u001b[0m\n\u001b[1;32m      1\u001b[0m tmp2 \u001b[38;5;241m=\u001b[39m tmp\u001b[38;5;241m.\u001b[39mselect(\u001b[38;5;124m'\u001b[39m\u001b[38;5;124mresult\u001b[39m\u001b[38;5;124m'\u001b[39m)\n\u001b[0;32m----> 2\u001b[0m \u001b[43mtmp2\u001b[49m\u001b[38;5;241;43m.\u001b[39;49m\u001b[43mselect\u001b[49m\u001b[43m(\u001b[49m\u001b[38;5;124;43m'\u001b[39;49m\u001b[38;5;124;43mitem\u001b[39;49m\u001b[38;5;124;43m'\u001b[39;49m\u001b[43m)\u001b[49m\u001b[38;5;241m.\u001b[39mfirst()\n\u001b[1;32m      3\u001b[0m \u001b[38;5;66;03m# tmp3 = tmp2.select('items').first()\u001b[39;00m\n\u001b[1;32m      4\u001b[0m \u001b[38;5;66;03m# tmp3\u001b[39;00m\n\u001b[1;32m      5\u001b[0m df \u001b[38;5;241m=\u001b[39m spark\u001b[38;5;241m.\u001b[39mcreateDataFrame(tmp2[\u001b[38;5;124m'\u001b[39m\u001b[38;5;124mitems\u001b[39m\u001b[38;5;124m'\u001b[39m])\n",
      "File \u001b[0;32m~/spark/python/pyspark/sql/dataframe.py:1685\u001b[0m, in \u001b[0;36mDataFrame.select\u001b[0;34m(self, *cols)\u001b[0m\n\u001b[1;32m   1664\u001b[0m \u001b[38;5;28;01mdef\u001b[39;00m \u001b[38;5;21mselect\u001b[39m(\u001b[38;5;28mself\u001b[39m, \u001b[38;5;241m*\u001b[39mcols):\n\u001b[1;32m   1665\u001b[0m     \u001b[38;5;124;03m\"\"\"Projects a set of expressions and returns a new :class:`DataFrame`.\u001b[39;00m\n\u001b[1;32m   1666\u001b[0m \n\u001b[1;32m   1667\u001b[0m \u001b[38;5;124;03m    .. versionadded:: 1.3.0\u001b[39;00m\n\u001b[0;32m   (...)\u001b[0m\n\u001b[1;32m   1683\u001b[0m \u001b[38;5;124;03m    [Row(name='Alice', age=12), Row(name='Bob', age=15)]\u001b[39;00m\n\u001b[1;32m   1684\u001b[0m \u001b[38;5;124;03m    \"\"\"\u001b[39;00m\n\u001b[0;32m-> 1685\u001b[0m     jdf \u001b[38;5;241m=\u001b[39m \u001b[38;5;28;43mself\u001b[39;49m\u001b[38;5;241;43m.\u001b[39;49m\u001b[43m_jdf\u001b[49m\u001b[38;5;241;43m.\u001b[39;49m\u001b[43mselect\u001b[49m\u001b[43m(\u001b[49m\u001b[38;5;28;43mself\u001b[39;49m\u001b[38;5;241;43m.\u001b[39;49m\u001b[43m_jcols\u001b[49m\u001b[43m(\u001b[49m\u001b[38;5;241;43m*\u001b[39;49m\u001b[43mcols\u001b[49m\u001b[43m)\u001b[49m\u001b[43m)\u001b[49m\n\u001b[1;32m   1686\u001b[0m     \u001b[38;5;28;01mreturn\u001b[39;00m DataFrame(jdf, \u001b[38;5;28mself\u001b[39m\u001b[38;5;241m.\u001b[39msql_ctx)\n",
      "File \u001b[0;32m~/spark/python/lib/py4j-0.10.9.5-src.zip/py4j/java_gateway.py:1321\u001b[0m, in \u001b[0;36mJavaMember.__call__\u001b[0;34m(self, *args)\u001b[0m\n\u001b[1;32m   1315\u001b[0m command \u001b[38;5;241m=\u001b[39m proto\u001b[38;5;241m.\u001b[39mCALL_COMMAND_NAME \u001b[38;5;241m+\u001b[39m\\\n\u001b[1;32m   1316\u001b[0m     \u001b[38;5;28mself\u001b[39m\u001b[38;5;241m.\u001b[39mcommand_header \u001b[38;5;241m+\u001b[39m\\\n\u001b[1;32m   1317\u001b[0m     args_command \u001b[38;5;241m+\u001b[39m\\\n\u001b[1;32m   1318\u001b[0m     proto\u001b[38;5;241m.\u001b[39mEND_COMMAND_PART\n\u001b[1;32m   1320\u001b[0m answer \u001b[38;5;241m=\u001b[39m \u001b[38;5;28mself\u001b[39m\u001b[38;5;241m.\u001b[39mgateway_client\u001b[38;5;241m.\u001b[39msend_command(command)\n\u001b[0;32m-> 1321\u001b[0m return_value \u001b[38;5;241m=\u001b[39m \u001b[43mget_return_value\u001b[49m\u001b[43m(\u001b[49m\n\u001b[1;32m   1322\u001b[0m \u001b[43m    \u001b[49m\u001b[43manswer\u001b[49m\u001b[43m,\u001b[49m\u001b[43m \u001b[49m\u001b[38;5;28;43mself\u001b[39;49m\u001b[38;5;241;43m.\u001b[39;49m\u001b[43mgateway_client\u001b[49m\u001b[43m,\u001b[49m\u001b[43m \u001b[49m\u001b[38;5;28;43mself\u001b[39;49m\u001b[38;5;241;43m.\u001b[39;49m\u001b[43mtarget_id\u001b[49m\u001b[43m,\u001b[49m\u001b[43m \u001b[49m\u001b[38;5;28;43mself\u001b[39;49m\u001b[38;5;241;43m.\u001b[39;49m\u001b[43mname\u001b[49m\u001b[43m)\u001b[49m\n\u001b[1;32m   1324\u001b[0m \u001b[38;5;28;01mfor\u001b[39;00m temp_arg \u001b[38;5;129;01min\u001b[39;00m temp_args:\n\u001b[1;32m   1325\u001b[0m     temp_arg\u001b[38;5;241m.\u001b[39m_detach()\n",
      "File \u001b[0;32m~/spark/python/pyspark/sql/utils.py:117\u001b[0m, in \u001b[0;36mcapture_sql_exception.<locals>.deco\u001b[0;34m(*a, **kw)\u001b[0m\n\u001b[1;32m    113\u001b[0m converted \u001b[38;5;241m=\u001b[39m convert_exception(e\u001b[38;5;241m.\u001b[39mjava_exception)\n\u001b[1;32m    114\u001b[0m \u001b[38;5;28;01mif\u001b[39;00m \u001b[38;5;129;01mnot\u001b[39;00m \u001b[38;5;28misinstance\u001b[39m(converted, UnknownException):\n\u001b[1;32m    115\u001b[0m     \u001b[38;5;66;03m# Hide where the exception came from that shows a non-Pythonic\u001b[39;00m\n\u001b[1;32m    116\u001b[0m     \u001b[38;5;66;03m# JVM exception message.\u001b[39;00m\n\u001b[0;32m--> 117\u001b[0m     \u001b[38;5;28;01mraise\u001b[39;00m converted \u001b[38;5;28;01mfrom\u001b[39;00m \u001b[38;5;28mNone\u001b[39m\n\u001b[1;32m    118\u001b[0m \u001b[38;5;28;01melse\u001b[39;00m:\n\u001b[1;32m    119\u001b[0m     \u001b[38;5;28;01mraise\u001b[39;00m\n",
      "\u001b[0;31mAnalysisException\u001b[0m: cannot resolve 'item' given input columns: [result];\n'Project ['item]\n+- Project [result#483]\n   +- Relation [result#483] json\n"
     ]
    }
   ],
   "source": [
    "tmp2 = tmp.select('result')\n",
    "tmp2.select('items').first()\n",
    "# tmp3 = tmp2.select('items').first()\n",
    "# tmp3\n",
    "df = spark.createDataFrame(tmp2['items'])\n",
    "df.show()\n",
    "\n",
    "# df.select(df.gubun.alias('LOC'),df.std)\n",
    "# tmp3 = co_patient.select(co_patient.gubun.alias('loc'), co_patient.qurRate)\n",
    "\n",
    "# co_rate = area_popu.join(tmp3, on = 'loc').distinct().orderBy(col('loc'))\n",
    "# co_rate.show()"
   ]
  },
  {
   "cell_type": "code",
   "execution_count": null,
   "id": "2ccee2e9",
   "metadata": {},
   "outputs": [],
   "source": []
  },
  {
   "cell_type": "code",
   "execution_count": null,
   "id": "869c292e",
   "metadata": {},
   "outputs": [],
   "source": []
  },
  {
   "cell_type": "code",
   "execution_count": null,
   "id": "749a2670",
   "metadata": {},
   "outputs": [],
   "source": []
  },
  {
   "cell_type": "code",
   "execution_count": null,
   "id": "2f40910c",
   "metadata": {},
   "outputs": [],
   "source": []
  },
  {
   "cell_type": "code",
   "execution_count": null,
   "id": "32c9d4a5",
   "metadata": {},
   "outputs": [],
   "source": []
  },
  {
   "cell_type": "code",
   "execution_count": null,
   "id": "4107c6f9",
   "metadata": {},
   "outputs": [],
   "source": []
  },
  {
   "cell_type": "code",
   "execution_count": null,
   "id": "9a3fa604",
   "metadata": {},
   "outputs": [],
   "source": []
  },
  {
   "cell_type": "markdown",
   "id": "61dc2494",
   "metadata": {},
   "source": [
    "### 1. 지역별 단위면적(km)당 인구수와 코로나 확진자 수의 상관관계를 구해보자"
   ]
  },
  {
   "cell_type": "code",
   "execution_count": 31,
   "id": "785d0797",
   "metadata": {},
   "outputs": [
    {
     "name": "stderr",
     "output_type": "stream",
     "text": [
      "                                                                                \r"
     ]
    },
    {
     "name": "stdout",
     "output_type": "stream",
     "text": [
      "+----+----+-----+\n",
      "| loc|area|ratio|\n",
      "+----+----+-----+\n",
      "|서울|605 |  0.6|\n",
      "|부산|770 |  0.8|\n",
      "|대구|883 |  0.9|\n",
      "+----+----+-----+\n",
      "only showing top 3 rows\n",
      "\n"
     ]
    },
    {
     "name": "stderr",
     "output_type": "stream",
     "text": [
      "                                                                                \r"
     ]
    },
    {
     "name": "stdout",
     "output_type": "stream",
     "text": [
      "+----+---------+---------+---------+\n",
      "| loc|    total|     male|   female|\n",
      "+----+---------+---------+---------+\n",
      "|전국|52739009 |26360035 |26378974 |\n",
      "|서울| 9736027 | 4721977 | 5014050 |\n",
      "|부산| 3396109 | 1663619 | 1732490 |\n",
      "+----+---------+---------+---------+\n",
      "only showing top 3 rows\n",
      "\n"
     ]
    }
   ],
   "source": [
    "# 면적, 인구 정보\n",
    "area = spark.read.csv('/corona_data/loc/sido_area.csv',encoding='CP949',header=True)\n",
    "popu = spark.read.csv('/corona_data/loc/sido_population.csv',encoding='CP949',header=True)\n",
    "\n",
    "area.show(3)\n",
    "popu.show(3)"
   ]
  },
  {
   "cell_type": "code",
   "execution_count": 34,
   "id": "3cb662d5",
   "metadata": {},
   "outputs": [
    {
     "name": "stderr",
     "output_type": "stream",
     "text": [
      "                                                                                \r"
     ]
    },
    {
     "name": "stdout",
     "output_type": "stream",
     "text": [
      "+----+------------+\n",
      "| loc|popu_density|\n",
      "+----+------------+\n",
      "|서울|       16093|\n",
      "|부산|        4411|\n",
      "|대구|        2733|\n",
      "|인천|        2831|\n",
      "|광주|        2920|\n",
      "|대전|        2722|\n",
      "|울산|        1072|\n",
      "|세종|         811|\n",
      "|경기|        1366|\n",
      "|강원|          93|\n",
      "|충북|         221|\n",
      "|충남|         265|\n",
      "|전북|         226|\n",
      "|전남|         152|\n",
      "|경북|         141|\n",
      "|경남|         321|\n",
      "|제주|         378|\n",
      "+----+------------+\n",
      "\n"
     ]
    }
   ],
   "source": [
    "area_popu = area.join(popu, on='loc')\n",
    "area_popu = area_popu.select(area_popu.loc, ceil(area_popu.total/area_popu.area).alias('popu_density'))\n",
    "area_popu.show()"
   ]
  },
  {
   "cell_type": "code",
   "execution_count": 39,
   "id": "42445625",
   "metadata": {
    "scrolled": false
   },
   "outputs": [
    {
     "name": "stderr",
     "output_type": "stream",
     "text": [
      "\r",
      "[Stage 21:>                                                         (0 + 1) / 1]\r",
      "\r",
      "                                                                                \r"
     ]
    },
    {
     "name": "stdout",
     "output_type": "stream",
     "text": [
      "+--------------------+---------+------+----------+--------------+----------+\n",
      "|               items|numOfRows|pageNo|resultCode|     resultMsg|totalCount|\n",
      "+--------------------+---------+------+----------+--------------+----------+\n",
      "|[{1482, 1477989, ...|      500|     1|        00|NORMAL SERVICE|     19912|\n",
      "+--------------------+---------+------+----------+--------------+----------+\n",
      "\n"
     ]
    }
   ],
   "source": [
    "# 코로나 감염자 데이터 가져오기\n",
    "file_name = '/corona_data/patient/corona_patient_2022-09-20.json'\n",
    "tmp = spark.read.json(file_name, encoding='UTF-8')\n",
    "tmp.show(3)"
   ]
  },
  {
   "cell_type": "code",
   "execution_count": 42,
   "id": "508e37a3",
   "metadata": {},
   "outputs": [
    {
     "name": "stderr",
     "output_type": "stream",
     "text": [
      "                                                                                \r"
     ]
    },
    {
     "data": {
      "text/plain": [
       "Row(items=[Row(deathCnt='1482', defCnt='1477989', gubun='경남', gubunCn='庆南', gubunEn='Gyeongsangnam-do', incDec='2866', isolClearCnt='0', isolIngCnt='0', localOccCnt='2841', overFlowCnt='25', qurRate='44596', stdDay='2022-09-20'), Row(deathCnt='7025', defCnt='6567961', gubun='경기', gubunCn='京畿', gubunEn='Gyeonggi-do', incDec='13316', isolClearCnt='0', isolIngCnt='0', localOccCnt='13288', overFlowCnt='28', qurRate='48417', stdDay='2022-09-20'), Row(deathCnt='1034', defCnt='716414', gubun='강원', gubunCn='江原', gubunEn='Gangwon-do', incDec='1397', isolClearCnt='0', isolIngCnt='0', localOccCnt='1379', overFlowCnt='18', qurRate='46566', stdDay='2022-09-20'), Row(deathCnt='643', defCnt='722686', gubun='광주', gubunCn='光州', gubunEn='Gwangju', incDec='1061', isolClearCnt='0', isolIngCnt='0', localOccCnt='1056', overFlowCnt='5', qurRate='50130', stdDay='2022-09-20'), Row(deathCnt='16', defCnt='13392', gubun='검역', gubunCn='隔離區', gubunEn='Lazaretto', incDec='15', isolClearCnt='0', isolIngCnt='0', localOccCnt='0', overFlowCnt='15', qurRate='1979', stdDay='2022-09-20'), Row(deathCnt='1599', defCnt='1063578', gubun='대구', gubunCn='大邱', gubunEn='Daegu', incDec='2612', isolClearCnt='0', isolIngCnt='0', localOccCnt='2602', overFlowCnt='10', qurRate='44587', stdDay='2022-09-20'), Row(deathCnt='5404', defCnt='4771203', gubun='서울', gubunCn='首尔', gubunEn='Seoul', incDec='9735', isolClearCnt='0', isolIngCnt='0', localOccCnt='9726', overFlowCnt='9', qurRate='50173', stdDay='2022-09-20'), Row(deathCnt='1518', defCnt='1408985', gubun='인천', gubunCn='仁川', gubunEn='Incheon', incDec='3084', isolClearCnt='0', isolIngCnt='0', localOccCnt='2977', overFlowCnt='107', qurRate='47789', stdDay='2022-09-20'), Row(deathCnt='2425', defCnt='1459247', gubun='부산', gubunCn='釜山', gubunEn='Busan', incDec='2407', isolClearCnt='0', isolIngCnt='0', localOccCnt='2402', overFlowCnt='5', qurRate='43555', stdDay='2022-09-20'), Row(deathCnt='16', defCnt='13392', gubun='검역', gubunCn='隔離區', gubunEn='Lazaretto', incDec='15', isolClearCnt='0', isolIngCnt='0', localOccCnt='0', overFlowCnt='15', qurRate='1979', stdDay='2022-09-20'), Row(deathCnt='840', defCnt='765103', gubun='충북', gubunCn='忠北', gubunEn='Chungcheongbuk-do', incDec='1416', isolClearCnt='0', isolIngCnt='0', localOccCnt='1404', overFlowCnt='12', qurRate='47896', stdDay='2022-09-20'), Row(deathCnt='1482', defCnt='1477989', gubun='경남', gubunCn='庆南', gubunEn='Gyeongsangnam-do', incDec='2866', isolClearCnt='0', isolIngCnt='0', localOccCnt='2841', overFlowCnt='25', qurRate='44596', stdDay='2022-09-20'), Row(deathCnt='1034', defCnt='716414', gubun='강원', gubunCn='江原', gubunEn='Gangwon-do', incDec='1397', isolClearCnt='0', isolIngCnt='0', localOccCnt='1379', overFlowCnt='18', qurRate='46566', stdDay='2022-09-20'), Row(deathCnt='7025', defCnt='6567961', gubun='경기', gubunCn='京畿', gubunEn='Gyeonggi-do', incDec='13316', isolClearCnt='0', isolIngCnt='0', localOccCnt='13288', overFlowCnt='28', qurRate='48417', stdDay='2022-09-20'), Row(deathCnt='407', defCnt='527473', gubun='울산', gubunCn='蔚山', gubunEn='Ulsan', incDec='678', isolClearCnt='0', isolIngCnt='0', localOccCnt='676', overFlowCnt='2', qurRate='47029', stdDay='2022-09-20'), Row(deathCnt='43', defCnt='191609', gubun='세종', gubunCn='世宗', gubunEn='Sejong', incDec='420', isolClearCnt='0', isolIngCnt='0', localOccCnt='418', overFlowCnt='2', qurRate='51522', stdDay='2022-09-20'), Row(deathCnt='1624', defCnt='1105034', gubun='경북', gubunCn='庆北', gubunEn='Gyeongsangbuk-do', incDec='2080', isolClearCnt='0', isolIngCnt='0', localOccCnt='2058', overFlowCnt='22', qurRate='42071', stdDay='2022-09-20'), Row(deathCnt='668', defCnt='814473', gubun='전남', gubunCn='全南', gubunEn='Jeollanam-do', incDec='1409', isolClearCnt='0', isolIngCnt='0', localOccCnt='1399', overFlowCnt='10', qurRate='44439', stdDay='2022-09-20'), Row(deathCnt='982', defCnt='830094', gubun='전북', gubunCn='全北', gubunEn='Jeollabuk-do', incDec='1625', isolClearCnt='0', isolIngCnt='0', localOccCnt='1610', overFlowCnt='15', qurRate='46456', stdDay='2022-09-20'), Row(deathCnt='1599', defCnt='1063578', gubun='대구', gubunCn='大邱', gubunEn='Daegu', incDec='2612', isolClearCnt='0', isolIngCnt='0', localOccCnt='2602', overFlowCnt='10', qurRate='44587', stdDay='2022-09-20'), Row(deathCnt='1184', defCnt='985647', gubun='충남', gubunCn='忠南', gubunEn='Chungcheongnam-do', incDec='2021', isolClearCnt='0', isolIngCnt='0', localOccCnt='2005', overFlowCnt='16', qurRate='46509', stdDay='2022-09-20'), Row(deathCnt='780', defCnt='709456', gubun='대전', gubunCn='大田', gubunEn='Daejeon', incDec='1507', isolClearCnt='0', isolIngCnt='0', localOccCnt='1494', overFlowCnt='13', qurRate='48852', stdDay='2022-09-20'), Row(deathCnt='1184', defCnt='985647', gubun='충남', gubunCn='忠南', gubunEn='Chungcheongnam-do', incDec='2021', isolClearCnt='0', isolIngCnt='0', localOccCnt='2005', overFlowCnt='16', qurRate='46509', stdDay='2022-09-20'), Row(deathCnt='668', defCnt='814473', gubun='전남', gubunCn='全南', gubunEn='Jeollanam-do', incDec='1409', isolClearCnt='0', isolIngCnt='0', localOccCnt='1399', overFlowCnt='10', qurRate='44439', stdDay='2022-09-20'), Row(deathCnt='217', defCnt='331393', gubun='제주', gubunCn='济州', gubunEn='Jeju', incDec='268', isolClearCnt='0', isolIngCnt='0', localOccCnt='259', overFlowCnt='9', qurRate='48968', stdDay='2022-09-20'), Row(deathCnt='27891', defCnt='24461737', gubun='합계', gubunCn='合计', gubunEn='Total', incDec='47917', isolClearCnt='0', isolIngCnt='0', localOccCnt='47594', overFlowCnt='323', qurRate='47371', stdDay='2022-09-20'), Row(deathCnt='982', defCnt='830094', gubun='전북', gubunCn='全北', gubunEn='Jeollabuk-do', incDec='1625', isolClearCnt='0', isolIngCnt='0', localOccCnt='1610', overFlowCnt='15', qurRate='46456', stdDay='2022-09-20'), Row(deathCnt='780', defCnt='709456', gubun='대전', gubunCn='大田', gubunEn='Daejeon', incDec='1507', isolClearCnt='0', isolIngCnt='0', localOccCnt='1494', overFlowCnt='13', qurRate='48852', stdDay='2022-09-20'), Row(deathCnt='217', defCnt='331393', gubun='제주', gubunCn='济州', gubunEn='Jeju', incDec='268', isolClearCnt='0', isolIngCnt='0', localOccCnt='259', overFlowCnt='9', qurRate='48968', stdDay='2022-09-20'), Row(deathCnt='43', defCnt='191609', gubun='세종', gubunCn='世宗', gubunEn='Sejong', incDec='420', isolClearCnt='0', isolIngCnt='0', localOccCnt='418', overFlowCnt='2', qurRate='51522', stdDay='2022-09-20'), Row(deathCnt='407', defCnt='527473', gubun='울산', gubunCn='蔚山', gubunEn='Ulsan', incDec='678', isolClearCnt='0', isolIngCnt='0', localOccCnt='676', overFlowCnt='2', qurRate='47029', stdDay='2022-09-20'), Row(deathCnt='27891', defCnt='24461737', gubun='합계', gubunCn='合计', gubunEn='Total', incDec='47917', isolClearCnt='0', isolIngCnt='0', localOccCnt='47594', overFlowCnt='323', qurRate='47371', stdDay='2022-09-20'), Row(deathCnt='2425', defCnt='1459247', gubun='부산', gubunCn='釜山', gubunEn='Busan', incDec='2407', isolClearCnt='0', isolIngCnt='0', localOccCnt='2402', overFlowCnt='5', qurRate='43555', stdDay='2022-09-20'), Row(deathCnt='643', defCnt='722686', gubun='광주', gubunCn='光州', gubunEn='Gwangju', incDec='1061', isolClearCnt='0', isolIngCnt='0', localOccCnt='1056', overFlowCnt='5', qurRate='50130', stdDay='2022-09-20'), Row(deathCnt='1518', defCnt='1408985', gubun='인천', gubunCn='仁川', gubunEn='Incheon', incDec='3084', isolClearCnt='0', isolIngCnt='0', localOccCnt='2977', overFlowCnt='107', qurRate='47789', stdDay='2022-09-20'), Row(deathCnt='5404', defCnt='4771203', gubun='서울', gubunCn='首尔', gubunEn='Seoul', incDec='9735', isolClearCnt='0', isolIngCnt='0', localOccCnt='9726', overFlowCnt='9', qurRate='50173', stdDay='2022-09-20'), Row(deathCnt='1624', defCnt='1105034', gubun='경북', gubunCn='庆北', gubunEn='Gyeongsangbuk-do', incDec='2080', isolClearCnt='0', isolIngCnt='0', localOccCnt='2058', overFlowCnt='22', qurRate='42071', stdDay='2022-09-20'), Row(deathCnt='840', defCnt='765103', gubun='충북', gubunCn='忠北', gubunEn='Chungcheongbuk-do', incDec='1416', isolClearCnt='0', isolIngCnt='0', localOccCnt='1404', overFlowCnt='12', qurRate='47896', stdDay='2022-09-20')])"
      ]
     },
     "execution_count": 42,
     "metadata": {},
     "output_type": "execute_result"
    },
    {
     "name": "stderr",
     "output_type": "stream",
     "text": [
      "                                                                                \r"
     ]
    },
    {
     "name": "stdout",
     "output_type": "stream",
     "text": [
      "+--------+-------+-----+-------+-----------------+------+------------+----------+-----------+-----------+-------+----------+\n",
      "|deathCnt| defCnt|gubun|gubunCn|          gubunEn|incDec|isolClearCnt|isolIngCnt|localOccCnt|overFlowCnt|qurRate|    stdDay|\n",
      "+--------+-------+-----+-------+-----------------+------+------------+----------+-----------+-----------+-------+----------+\n",
      "|    1482|1477989| 경남|   庆南| Gyeongsangnam-do|  2866|           0|         0|       2841|         25|  44596|2022-09-20|\n",
      "|    7025|6567961| 경기|   京畿|      Gyeonggi-do| 13316|           0|         0|      13288|         28|  48417|2022-09-20|\n",
      "|    1034| 716414| 강원|   江原|       Gangwon-do|  1397|           0|         0|       1379|         18|  46566|2022-09-20|\n",
      "|     643| 722686| 광주|   光州|          Gwangju|  1061|           0|         0|       1056|          5|  50130|2022-09-20|\n",
      "|      16|  13392| 검역| 隔離區|        Lazaretto|    15|           0|         0|          0|         15|   1979|2022-09-20|\n",
      "|    1599|1063578| 대구|   大邱|            Daegu|  2612|           0|         0|       2602|         10|  44587|2022-09-20|\n",
      "|    5404|4771203| 서울|   首尔|            Seoul|  9735|           0|         0|       9726|          9|  50173|2022-09-20|\n",
      "|    1518|1408985| 인천|   仁川|          Incheon|  3084|           0|         0|       2977|        107|  47789|2022-09-20|\n",
      "|    2425|1459247| 부산|   釜山|            Busan|  2407|           0|         0|       2402|          5|  43555|2022-09-20|\n",
      "|      16|  13392| 검역| 隔離區|        Lazaretto|    15|           0|         0|          0|         15|   1979|2022-09-20|\n",
      "|     840| 765103| 충북|   忠北|Chungcheongbuk-do|  1416|           0|         0|       1404|         12|  47896|2022-09-20|\n",
      "|    1482|1477989| 경남|   庆南| Gyeongsangnam-do|  2866|           0|         0|       2841|         25|  44596|2022-09-20|\n",
      "|    1034| 716414| 강원|   江原|       Gangwon-do|  1397|           0|         0|       1379|         18|  46566|2022-09-20|\n",
      "|    7025|6567961| 경기|   京畿|      Gyeonggi-do| 13316|           0|         0|      13288|         28|  48417|2022-09-20|\n",
      "|     407| 527473| 울산|   蔚山|            Ulsan|   678|           0|         0|        676|          2|  47029|2022-09-20|\n",
      "|      43| 191609| 세종|   世宗|           Sejong|   420|           0|         0|        418|          2|  51522|2022-09-20|\n",
      "|    1624|1105034| 경북|   庆北| Gyeongsangbuk-do|  2080|           0|         0|       2058|         22|  42071|2022-09-20|\n",
      "|     668| 814473| 전남|   全南|     Jeollanam-do|  1409|           0|         0|       1399|         10|  44439|2022-09-20|\n",
      "|     982| 830094| 전북|   全北|     Jeollabuk-do|  1625|           0|         0|       1610|         15|  46456|2022-09-20|\n",
      "|    1599|1063578| 대구|   大邱|            Daegu|  2612|           0|         0|       2602|         10|  44587|2022-09-20|\n",
      "+--------+-------+-----+-------+-----------------+------+------------+----------+-----------+-----------+-------+----------+\n",
      "only showing top 20 rows\n",
      "\n"
     ]
    }
   ],
   "source": [
    "# 지역명과, 10만명 당 감염 현황\n",
    "tmp2 = tmp.select('items').first()\n",
    "tmp2\n",
    "co_patient = spark.createDataFrame(tmp2['items'])\n",
    "co_patient.show()\n",
    "\n",
    "# tmp3 = co_patient.select(co_patient.gubun.alias('loc'), co_patient.qurRate)\n",
    "# co_rate = area_popu.join(tmp3, on = 'loc').distinct().orderBy(col('loc'))\n",
    "# co_rate.show()"
   ]
  },
  {
   "cell_type": "code",
   "execution_count": 39,
   "id": "efdf8a47",
   "metadata": {},
   "outputs": [
    {
     "name": "stderr",
     "output_type": "stream",
     "text": [
      "                                                                                \r"
     ]
    },
    {
     "data": {
      "text/plain": [
       "<AxesSubplot:xlabel='popu_density', ylabel='qurRate'>"
      ]
     },
     "execution_count": 39,
     "metadata": {},
     "output_type": "execute_result"
    },
    {
     "data": {
      "image/png": "[encoded data removed]",
      "text/plain": [
       "<Figure size 600x600 with 1 Axes>"
      ]
     },
     "metadata": {},
     "output_type": "display_data"
    },
    {
     "name": "stderr",
     "output_type": "stream",
     "text": [
      "22/09/16 11:17:04 ERROR YarnScheduler: Lost executor 4 on localhost: Executor heartbeat timed out after 327940 ms\n",
      "22/09/16 11:17:46 ERROR YarnScheduler: Lost executor 3 on localhost: Executor heartbeat timed out after 328746 ms\n"
     ]
    }
   ],
   "source": [
    "pd_co = co_rate.toPandas()\n",
    "\n",
    "pd_co['qurRate'] = pd_co['qurRate'].astype(int)\n",
    "pd_co.plot(kind='scatter'\n",
    "           ,x='popu_density'\n",
    "           ,y='qurRate'\n",
    "           ,ylim=(30000,50000)\n",
    "           ,figsize=(6, 6)\n",
    "          )"
   ]
  },
  {
   "cell_type": "markdown",
   "id": "8d645d0c",
   "metadata": {},
   "source": [
    "### 2.  4차 예방접종 완료자와 코로나 확진자 수의 상관관계를 구해보자"
   ]
  },
  {
   "cell_type": "code",
   "execution_count": 19,
   "id": "354ee266",
   "metadata": {},
   "outputs": [
    {
     "name": "stderr",
     "output_type": "stream",
     "text": [
      "[Stage 69:>                                                         (0 + 1) / 1]\r"
     ]
    },
    {
     "name": "stdout",
     "output_type": "stream",
     "text": [
      "+----+-------+---------+------+-------+\n",
      "| loc|     v4|    total|v_rate|qurRate|\n",
      "+----+-------+---------+------+-------+\n",
      "|강원| 269222| 1555876 |    18|  45979|\n",
      "|강원| 269222| 1555876 |    18|  45979|\n",
      "|강원| 269222| 1555876 |    18|  45979|\n",
      "|강원| 269222| 1555876 |    18|  45979|\n",
      "|경기|1680362|13925862 |    13|  47883|\n",
      "|경기|1680362|13925862 |    13|  47883|\n",
      "|경기|1680362|13925862 |    13|  47883|\n",
      "|경기|1680362|13925862 |    13|  47883|\n",
      "|경남| 483703| 3377331 |    15|  44098|\n",
      "|경남| 483703| 3377331 |    15|  44098|\n",
      "|경남| 483703| 3377331 |    15|  44098|\n",
      "|경남| 483703| 3377331 |    15|  44098|\n",
      "|경북| 394769| 2677709 |    15|  41475|\n",
      "|경북| 394769| 2677709 |    15|  41475|\n",
      "|경북| 394769| 2677709 |    15|  41475|\n",
      "|경북| 394769| 2677709 |    15|  41475|\n",
      "|광주| 233610| 1462545 |    16|  49604|\n",
      "|광주| 233610| 1462545 |    16|  49604|\n",
      "|광주| 233610| 1462545 |    16|  49604|\n",
      "|광주| 233610| 1462545 |    16|  49604|\n",
      "+----+-------+---------+------+-------+\n",
      "only showing top 20 rows\n",
      "\n"
     ]
    },
    {
     "name": "stderr",
     "output_type": "stream",
     "text": [
      "\r",
      "                                                                                \r"
     ]
    }
   ],
   "source": [
    "file_name = '/corona_data/vaccine/corona_vaccine_'+cal_std_day(1)+'json'\n",
    "vaccine = spark.read.json(file_name)\n",
    "# vaccine.show(3)\n",
    "vaccine_df = spark.createDataFrame(vaccine.select('data').first()['data'])\n",
    "# vaccine_df.show()\n",
    "# pop_vaccine = vaccine_df.join(popu, on='loc').select(vaccine_df.loc,ceil((vaccine_df.v4/popu.total)*100).alias('v_rate'))\n",
    "pop_vaccine = vaccine_df.join(popu,on='loc').select('loc',col('v4'),col('total'),\n",
    "                                                   ceil((col('v4')/col('total')*100)).alias('v_rate'))\n",
    "# pop_vaccine.show()\n",
    "\n",
    "tmp3 = co_patient.select(co_patient.gubun.alias('loc'), co_patient.qurRate)\n",
    "co_vaccine_df = pop_vaccine.join(tmp3, on='loc')\n",
    "# co_vaccine_df.show()\n",
    "co_vaccine = co_vaccine_df.select('loc','v_rate','qurRate').distinct()\n",
    "co_vaccine_df.show()"
   ]
  },
  {
   "cell_type": "code",
   "execution_count": 20,
   "id": "01cfc91b",
   "metadata": {},
   "outputs": [
    {
     "name": "stderr",
     "output_type": "stream",
     "text": [
      "                                                                                \r"
     ]
    },
    {
     "data": {
      "text/plain": [
       "<AxesSubplot:xlabel='v_rate', ylabel='qurRate'>"
      ]
     },
     "execution_count": 20,
     "metadata": {},
     "output_type": "execute_result"
    },
    {
     "name": "stderr",
     "output_type": "stream",
     "text": [
      "findfont: Font family ['NanumGothic'] not found. Falling back to DejaVu Sans.\n"
     ]
    },
    {
     "data": {
      "image/png": "[encoded data removed]",
      "text/plain": [
       "<Figure size 700x700 with 1 Axes>"
      ]
     },
     "metadata": {},
     "output_type": "display_data"
    }
   ],
   "source": [
    "pd_vac = co_vaccine_df.toPandas()\n",
    "\n",
    "pd_vac['qurRate'] = pd_vac['qurRate'].astype(int)\n",
    "pd_vac.plot(kind='scatter'\n",
    "           ,x='v_rate'\n",
    "           ,y='qurRate'\n",
    "           ,figsize=(7, 7)\n",
    "          )"
   ]
  },
  {
   "cell_type": "markdown",
   "id": "510167a1",
   "metadata": {},
   "source": [
    "### 3. 다중이용시설과 코로나 확진자 수의 상관관계"
   ]
  },
  {
   "cell_type": "code",
   "execution_count": 87,
   "id": "d0c5c80c",
   "metadata": {},
   "outputs": [
    {
     "name": "stdout",
     "output_type": "stream",
     "text": [
      "+----+----+------+----------------+--------------+--------+\n",
      "|연도|광역|시군구|          시설명|사업자등록번호|  시설군|\n",
      "+----+----+------+----------------+--------------+--------+\n",
      "|2020|강원|강릉시|(주)경포솔향온천|  127-86-57613|  목욕장|\n",
      "|2020|강원|강릉시|  24시황실사우나|  226-33-03247|  목욕장|\n",
      "|2020|강원|강릉시|    강릉고려병원|  226-82-03662|의료기관|\n",
      "+----+----+------+----------------+--------------+--------+\n",
      "only showing top 3 rows\n",
      "\n"
     ]
    },
    {
     "name": "stderr",
     "output_type": "stream",
     "text": [
      "                                                                                \r"
     ]
    },
    {
     "name": "stdout",
     "output_type": "stream",
     "text": [
      "+----+----+-----+\n",
      "| loc|area|ratio|\n",
      "+----+----+-----+\n",
      "|서울|605 |  0.6|\n",
      "|부산|770 |  0.8|\n",
      "|대구|883 |  0.9|\n",
      "+----+----+-----+\n",
      "only showing top 3 rows\n",
      "\n"
     ]
    },
    {
     "name": "stderr",
     "output_type": "stream",
     "text": [
      "\r",
      "[Stage 183:>                                                        (0 + 1) / 1]\r"
     ]
    },
    {
     "name": "stdout",
     "output_type": "stream",
     "text": [
      "+----+---------+---------+---------+\n",
      "| loc|    total|     male|   female|\n",
      "+----+---------+---------+---------+\n",
      "|전국|52739009 |26360035 |26378974 |\n",
      "|서울| 9736027 | 4721977 | 5014050 |\n",
      "|부산| 3396109 | 1663619 | 1732490 |\n",
      "+----+---------+---------+---------+\n",
      "only showing top 3 rows\n",
      "\n"
     ]
    },
    {
     "name": "stderr",
     "output_type": "stream",
     "text": [
      "\r",
      "                                                                                \r"
     ]
    }
   ],
   "source": [
    "# file_name = '/corona_data/loc/corona_vaccine_'+cal_std_day(1)+'json'\n",
    "facility = spark.read.csv('/corona_data/loc/전국다중이용시설.csv',encoding='CP949',header=True)\n",
    "facility.show(3)\n",
    "sido = spark.read.csv('/corona_data/loc/sido_area.csv',encoding='CP949',header=True)\n",
    "sido.show(3)\n",
    "sido_popu = spark.read.csv('/corona_data/loc/sido_population.csv',encoding='CP949',header=True)\n",
    "sido_popu.show(3)"
   ]
  },
  {
   "cell_type": "code",
   "execution_count": 150,
   "id": "ccd0384f",
   "metadata": {},
   "outputs": [
    {
     "name": "stderr",
     "output_type": "stream",
     "text": [
      "[Stage 291:>                                                        (0 + 1) / 1]\r"
     ]
    },
    {
     "name": "stdout",
     "output_type": "stream",
     "text": [
      "+----+--------+-------+\n",
      "| loc|fac_popu|qurRate|\n",
      "+----+--------+-------+\n",
      "|강원|      38|  45979|\n",
      "|강원|      38|  45979|\n",
      "|강원|      38|  45979|\n",
      "|강원|      38|  45979|\n",
      "|경기|      46|  47883|\n",
      "|경기|      46|  47883|\n",
      "|경기|      46|  47883|\n",
      "|경기|      46|  47883|\n",
      "|경남|      41|  44098|\n",
      "|경남|      41|  44098|\n",
      "|경남|      41|  44098|\n",
      "|경남|      41|  44098|\n",
      "|경북|      36|  41475|\n",
      "|경북|      36|  41475|\n",
      "|경북|      36|  41475|\n",
      "|경북|      36|  41475|\n",
      "|광주|      51|  49604|\n",
      "|광주|      51|  49604|\n",
      "|광주|      51|  49604|\n",
      "|광주|      51|  49604|\n",
      "+----+--------+-------+\n",
      "only showing top 20 rows\n",
      "\n"
     ]
    },
    {
     "name": "stderr",
     "output_type": "stream",
     "text": [
      "\r",
      "                                                                                \r"
     ]
    }
   ],
   "source": [
    "######### 풀이\n",
    "fac_cnt = facility.groupBy(facility.광역.alias('loc')).agg(count('*').alias('fac_cnt'))\n",
    "# fac_cnt.show()\n",
    "tmp = popu.join(fac_cnt, on ='loc')\n",
    "fac_popu = tmp.select('loc', ceil(tmp.fac_cnt/tmp.total*100000).alias('fac_popu'))\n",
    "\n",
    "tmp3 = co_patient.select(co_patient.gubun.alias('loc'), co_patient.qurRate)\n",
    "fac_rate = fac_popu.join(tmp3, on='loc')\n",
    "fac_rate.show()"
   ]
  },
  {
   "cell_type": "code",
   "execution_count": 154,
   "id": "37ba1d98",
   "metadata": {},
   "outputs": [
    {
     "name": "stderr",
     "output_type": "stream",
     "text": [
      "                                                                                \r"
     ]
    },
    {
     "data": {
      "text/plain": [
       "<AxesSubplot:xlabel='fac_popu', ylabel='qurRate'>"
      ]
     },
     "execution_count": 154,
     "metadata": {},
     "output_type": "execute_result"
    },
    {
     "data": {
      "image/png": "[encoded data removed]",
      "text/plain": [
       "<Figure size 600x600 with 1 Axes>"
      ]
     },
     "metadata": {},
     "output_type": "display_data"
    }
   ],
   "source": [
    "pd_fac = fac_rate.toPandas()\n",
    "pd_fac['qurRate'] = pd_fac['qurRate'].astype(int)\n",
    "pd_fac.plot(kind='scatter'\n",
    "           ,x='fac_popu'\n",
    "           ,y='qurRate'\n",
    "           ,ylim=(40000,50000)\n",
    "           ,figsize=(6, 6) \n",
    "          )"
   ]
  },
  {
   "cell_type": "code",
   "execution_count": 157,
   "id": "490db43c",
   "metadata": {},
   "outputs": [
    {
     "name": "stderr",
     "output_type": "stream",
     "text": [
      "\r",
      "[Stage 310:>                                                        (0 + 1) / 1]\r"
     ]
    },
    {
     "name": "stdout",
     "output_type": "stream",
     "text": [
      "+----+-------------+\n",
      "|광역|count(시설군)|\n",
      "+----+-------------+\n",
      "|경북|          944|\n",
      "|대전|          767|\n",
      "|전북|          759|\n",
      "|충북|          617|\n",
      "|울산|          431|\n",
      "|경남|         1357|\n",
      "|제주|          310|\n",
      "|충남|          824|\n",
      "|전남|          825|\n",
      "|인천|         1386|\n",
      "|부산|         1462|\n",
      "|대구|         1015|\n",
      "|경기|         6303|\n",
      "|서울|         5224|\n",
      "|광주|          732|\n",
      "|세종|          243|\n",
      "|강원|          584|\n",
      "+----+-------------+\n",
      "\n"
     ]
    },
    {
     "name": "stderr",
     "output_type": "stream",
     "text": [
      "\r",
      "                                                                                \r"
     ]
    }
   ],
   "source": [
    "facility_df = facility.groupBy(facility.광역).agg({'시설군':'count'})\n",
    "##### df로 불러올때부터 alias설정 : facility.광역.alias('loc'), agg(count(*).alias('fac_cnt'))\n",
    "# facility_df = facility.groupBy(facility.광역.alias('loc')).agg(count('*').alias('fac_cnt'))\n",
    "facility_df.show()"
   ]
  },
  {
   "cell_type": "code",
   "execution_count": 146,
   "id": "526a8912",
   "metadata": {},
   "outputs": [
    {
     "name": "stderr",
     "output_type": "stream",
     "text": [
      "                                                                                \r"
     ]
    },
    {
     "name": "stdout",
     "output_type": "stream",
     "text": [
      "+----+--------+\n",
      "| loc|fac_popu|\n",
      "+----+--------+\n",
      "|경북|      36|\n",
      "|대전|      53|\n",
      "|전북|      42|\n",
      "|충북|      38|\n",
      "|울산|      38|\n",
      "|경남|      41|\n",
      "|제주|      45|\n",
      "|충남|      38|\n",
      "|전남|      45|\n",
      "|인천|      46|\n",
      "|부산|      44|\n",
      "|대구|      43|\n",
      "|경기|      46|\n",
      "|서울|      54|\n",
      "|광주|      51|\n",
      "|세종|      65|\n",
      "|강원|      38|\n",
      "+----+--------+\n",
      "\n"
     ]
    }
   ],
   "source": [
    "tmp = sido_popu.select(col('loc').alias('광역'),col('total'))\n",
    "fac_popu = facility_df.join(tmp, on='광역')\n",
    "fac_popu_df = fac_popu.select(fac_popu.광역.alias('loc'), ceil(col('count(시설군)')/col('total')*100000).alias('fac_popu'))\n",
    "fac_popu_df.show()"
   ]
  },
  {
   "cell_type": "markdown",
   "id": "d5d50127",
   "metadata": {},
   "source": [
    "### 4. 요일별 코로나 확진자 수를 구해보자"
   ]
  },
  {
   "cell_type": "code",
   "execution_count": 197,
   "id": "85c84e61",
   "metadata": {
    "scrolled": true
   },
   "outputs": [
    {
     "name": "stderr",
     "output_type": "stream",
     "text": [
      "[Stage 363:>                                                        (0 + 1) / 1]\r"
     ]
    },
    {
     "name": "stdout",
     "output_type": "stream",
     "text": [
      "+---------+---------+\n",
      "|dayofweek| patients|\n",
      "+---------+---------+\n",
      "|        1|2371132.0|\n",
      "|        2|1344660.0|\n",
      "|        3|3063232.0|\n",
      "|        4|3862608.0|\n",
      "|        5|3559088.0|\n",
      "|        6|2892264.0|\n",
      "|        7|2647380.0|\n",
      "+---------+---------+\n",
      "\n"
     ]
    },
    {
     "name": "stderr",
     "output_type": "stream",
     "text": [
      "\r",
      "                                                                                \r"
     ]
    }
   ],
   "source": [
    "file_name = '/corona_data/patient/'\n",
    "tmp = spark.read.json(file_name, encoding='UTF-8')\n",
    "p = patient_data.withColumn('dayofweek',dayofweek(patient_data.stdDay))\n",
    "# p.show()\n",
    "\n",
    "# localOccCnt -> 당일 발생한 코로나 확진자 수 - 해외유입수\n",
    "p_df = p.groupBy(p.dayofweek).agg(sum(col('localOccCnt')).alias('patients')).orderBy(col('dayofweek'))\n",
    "p_df.show()\n"
   ]
  },
  {
   "cell_type": "code",
   "execution_count": 198,
   "id": "ed67106d",
   "metadata": {},
   "outputs": [
    {
     "name": "stderr",
     "output_type": "stream",
     "text": [
      "                                                                                \r"
     ]
    },
    {
     "data": {
      "text/plain": [
       "<AxesSubplot:>"
      ]
     },
     "execution_count": 198,
     "metadata": {},
     "output_type": "execute_result"
    },
    {
     "data": {
      "image/png": "[encoded data removed]",
      "text/plain": [
       "<Figure size 600x600 with 1 Axes>"
      ]
     },
     "metadata": {},
     "output_type": "display_data"
    }
   ],
   "source": [
    "pd_week = p_df.toPandas()\n",
    "pd_week.plot(kind='bar', figsize=(6, 6))"
   ]
  },
  {
   "cell_type": "code",
   "execution_count": 166,
   "id": "dbb597e7",
   "metadata": {
    "collapsed": true
   },
   "outputs": [
    {
     "name": "stderr",
     "output_type": "stream",
     "text": [
      "                                                                                \r"
     ]
    },
    {
     "name": "stdout",
     "output_type": "stream",
     "text": [
      "+----------------------+\n",
      "|                 items|\n",
      "+----------------------+\n",
      "|[{16, 12659, 검역, ...|\n",
      "|  [{1465, 1461477, ...|\n",
      "|[{16, 12440, 검역, ...|\n",
      "| [{1043, 868166, 충...|\n",
      "|  [{1429, 1214957, ...|\n",
      "|[{528, 687990, 전남...|\n",
      "|  [{26161, 22449475...|\n",
      "|  [{25441, 20983169...|\n",
      "| [{1376, 847452, 대...|\n",
      "|[{520, 666170, 전남...|\n",
      "|  [{5077, 4264423, ...|\n",
      "|  [{6778, 6219245, ...|\n",
      "| [{1375, 842746, 대...|\n",
      "|  [{2268, 1266446, ...|\n",
      "| [{1475, 996824, 대...|\n",
      "|  [{2249, 1204102, ...|\n",
      "|[{781, 679100, 충북...|\n",
      "|[{755, 648957, 대전...|\n",
      "|[{883, 571175, 강원...|\n",
      "|  [{1427, 1196686, ...|\n",
      "+----------------------+\n",
      "only showing top 20 rows\n",
      "\n"
     ]
    }
   ],
   "source": [
    "tmp.select(tmp.items).show()"
   ]
  },
  {
   "cell_type": "code",
   "execution_count": 180,
   "id": "e82f90c3",
   "metadata": {
    "scrolled": true
   },
   "outputs": [
    {
     "name": "stderr",
     "output_type": "stream",
     "text": [
      "[Stage 331:>                                                        (0 + 1) / 1]\r"
     ]
    },
    {
     "name": "stdout",
     "output_type": "stream",
     "text": [
      "+--------+--------+-----+-------+----------------+------+------------+----------+-----------+-----------+-------+----------+\n",
      "|deathCnt|  defCnt|gubun|gubunCn|         gubunEn|incDec|isolClearCnt|isolIngCnt|localOccCnt|overFlowCnt|qurRate|    stdDay|\n",
      "+--------+--------+-----+-------+----------------+------+------------+----------+-----------+-----------+-------+----------+\n",
      "|      16|   12659| 검역| 隔離區|       Lazaretto|    17|           0|         0|          0|         17|      -|2022-08-25|\n",
      "|      16|   12659| 검역| 隔離區|       Lazaretto|    17|           0|         0|          0|         17|      -|2022-08-25|\n",
      "|    6715| 6109867| 경기|   京畿|     Gyeonggi-do| 27032|           0|         0|      27007|         25|  45040|2022-08-25|\n",
      "|    5165| 4475520| 서울|   首尔|           Seoul| 17722|           0|         0|      17707|         15|  47064|2022-08-25|\n",
      "|     927|  763330| 전북|   全北|    Jeollabuk-do|  4533|           0|         0|       4482|         51|  42719|2022-08-25|\n",
      "|    5165| 4475520| 서울|   首尔|           Seoul| 17722|           0|         0|      17707|         15|  47064|2022-08-25|\n",
      "|     927|  763330| 전북|   全北|    Jeollabuk-do|  4533|           0|         0|       4482|         51|  42719|2022-08-25|\n",
      "|      43|  175665| 세종|   世宗|          Sejong|   944|           0|         0|        939|          5|  47235|2022-08-25|\n",
      "|     577|  751438| 전남|   全南|    Jeollanam-do|  5081|           0|         0|       5074|          7|  40999|2022-08-25|\n",
      "|    1468| 1308817| 인천|   仁川|         Incheon|  5796|           0|         0|       5729|         67|  44391|2022-08-25|\n",
      "|   26332|22701921| 합계|   合计|           Total|113371|           0|         0|     113002|        369|  43963|2022-08-25|\n",
      "|    2331| 1366157| 부산|   釜山|           Busan|  7164|           0|         0|       7163|          1|  40776|2022-08-25|\n",
      "|     207|  313644| 제주|   济州|            Jeju|  1634|           0|         0|       1622|         12|  46345|2022-08-25|\n",
      "|     927|  763330| 전북|   全北|    Jeollabuk-do|  4533|           0|         0|       4482|         51|  42719|2022-08-25|\n",
      "|     607|  668865| 광주|   光州|         Gwangju|  4140|           0|         0|       4124|         16|  46397|2022-08-25|\n",
      "|    2331| 1366157| 부산|   釜山|           Busan|  7164|           0|         0|       7163|          1|  40776|2022-08-25|\n",
      "|    1527| 1007099| 경북|   庆北|Gyeongsangbuk-do|  6422|           0|         0|       6400|         22|  38342|2022-08-25|\n",
      "|    1369| 1363835| 경남|   庆南|Gyeongsangnam-do|  7982|           0|         0|       7950|         32|  41151|2022-08-25|\n",
      "|      43|  175665| 세종|   世宗|          Sejong|   944|           0|         0|        939|          5|  47235|2022-08-25|\n",
      "|      16|   12659| 검역| 隔離區|       Lazaretto|    17|           0|         0|          0|         17|      -|2022-08-25|\n",
      "+--------+--------+-----+-------+----------------+------+------------+----------+-----------+-----------+-------+----------+\n",
      "only showing top 20 rows\n",
      "\n"
     ]
    },
    {
     "name": "stderr",
     "output_type": "stream",
     "text": [
      "\r",
      "                                                                                \r"
     ]
    }
   ],
   "source": [
    "data = []\n",
    "for r1 in tmp.select(tmp.items).toLocalIterator():\n",
    "    if not r1.items:\n",
    "        continue\n",
    "    for r2 in r1.items:\n",
    "        data.append(r2)\n",
    "        \n",
    "patient_data = spark.createDataFrame(data)\n",
    "patient_data.show()"
   ]
  },
  {
   "cell_type": "code",
   "execution_count": null,
   "id": "3e700bab",
   "metadata": {},
   "outputs": [],
   "source": []
  },
  {
   "cell_type": "code",
   "execution_count": null,
   "id": "27770514",
   "metadata": {},
   "outputs": [],
   "source": []
  }
 ],
 "metadata": {
  "kernelspec": {
   "display_name": "Python 3 (ipykernel)",
   "language": "python",
   "name": "python3"
  },
  "language_info": {
   "codemirror_mode": {
    "name": "ipython",
    "version": 3
   },
   "file_extension": ".py",
   "mimetype": "text/x-python",
   "name": "python",
   "nbconvert_exporter": "python",
   "pygments_lexer": "ipython3",
   "version": "3.8.10"
  }
 },
 "nbformat": 4,
 "nbformat_minor": 5
}
